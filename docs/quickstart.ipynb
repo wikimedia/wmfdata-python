{
 "cells": [
  {
   "cell_type": "markdown",
   "metadata": {},
   "source": [
    "Welcome to Wmfdata-Python! This notebook gives a introduction to using it.\n",
    "\n",
    "If you have additional questions, please ask in the [#product-analytics channel](https://app.slack.com/client/T024KLHS4/CLKDS4MG9) on the private Wikimedia Foundation Slack or the public [analytics mailing list](mailto:analytics@lists.wikimedia.org).\n",
    "\n",
    "## Contents\n",
    "1. [Importing](#importing)\n",
    "1. [Docstrings](#docstrings)\n",
    "1. [Presto](#presto)\n",
    "1. [Spark](#spark)\n",
    "1. [MariaDB](#mariadb)\n",
    "1. [Hive](#hive)\n",
    "1. [Utils](#utils)\n",
    "   1. [`pd_display_all`](#pd_display_all)\n",
    "   1. [`insert_code_toggle`](#insert_code_toggle)\n",
    "   1. [`df_to_remarkup`](#df_to_remarkup)\n",
    "   1. [`get_dblist`](#get_dblist)\n",
    "   1. [`sql_tuple`](#sql_tuple)"
   ]
  },
  {
   "cell_type": "markdown",
   "metadata": {
    "tags": []
   },
   "source": [
    "## Importing"
   ]
  },
  {
   "cell_type": "markdown",
   "metadata": {},
   "source": [
    "The standard way to import Wmfdata gives it the alias `wmf`."
   ]
  },
  {
   "cell_type": "code",
   "execution_count": 1,
   "metadata": {},
   "outputs": [],
   "source": [
    "import wmfdata as wmf"
   ]
  },
  {
   "cell_type": "markdown",
   "metadata": {},
   "source": [
    "This automatically imports Wmfdata's six modules, so they are now available as:\n",
    "* `wmf.mariadb`: running SQL on the [Analytics MediaWiki replicas](https://wikitech.wikimedia.org/wiki/Analytics/Systems/MariaDB) using MariaDB\n",
    "* `wmf.presto`: running SQL on the Data Lake using [Presto](https://wikitech.wikimedia.org/wiki/Analytics/Systems/Presto)\n",
    "* `wmf.spark`: running SQL on the Data Lake using [Spark](https://wikitech.wikimedia.org/wiki/Analytics/Systems/Cluster/Spark)\n",
    "* `wmf.hive`: running SQL on the Data Lake using [Hive](https://wikitech.wikimedia.org/wiki/Analytics/Systems/Cluster/Hive)\n",
    "* `wmf.utils`: miscellaneous utilities\n",
    "* `wmf.conda`: tools for Conda environments; mainly for internal use."
   ]
  },
  {
   "cell_type": "code",
   "execution_count": 2,
   "metadata": {},
   "outputs": [
    {
     "data": {
      "text/plain": [
       "<module 'wmfdata.hive' from '/home/neilpquinn-wmf/wmfdata-python/wmfdata/hive.py'>"
      ]
     },
     "execution_count": 2,
     "metadata": {},
     "output_type": "execute_result"
    }
   ],
   "source": [
    "wmf.hive"
   ]
  },
  {
   "cell_type": "markdown",
   "metadata": {},
   "source": [
    "## Docstrings"
   ]
  },
  {
   "cell_type": "markdown",
   "metadata": {},
   "source": [
    "IPython (the Python shell used by Jupyter) allows you to access the docstring of functions and modules by appending `?` to the end of their names. Wmfdata's key functions are all documented this way, so we'll use that trick in this guide."
   ]
  },
  {
   "cell_type": "markdown",
   "metadata": {},
   "source": [
    "## Presto"
   ]
  },
  {
   "cell_type": "markdown",
   "metadata": {},
   "source": [
    "`wmf.presto` has just one function: `run`. "
   ]
  },
  {
   "cell_type": "code",
   "execution_count": 3,
   "metadata": {},
   "outputs": [
    {
     "data": {
      "text/plain": [
       "\u001b[0;31mSignature:\u001b[0m \u001b[0mwmf\u001b[0m\u001b[0;34m.\u001b[0m\u001b[0mpresto\u001b[0m\u001b[0;34m.\u001b[0m\u001b[0mrun\u001b[0m\u001b[0;34m(\u001b[0m\u001b[0mcommands\u001b[0m\u001b[0;34m,\u001b[0m \u001b[0mcatalog\u001b[0m\u001b[0;34m=\u001b[0m\u001b[0;34m'analytics_hive'\u001b[0m\u001b[0;34m)\u001b[0m\u001b[0;34m\u001b[0m\u001b[0;34m\u001b[0m\u001b[0m\n",
       "\u001b[0;31mDocstring:\u001b[0m\n",
       "Runs one or more SQL commands using the Presto SQL engine and returns the last result\n",
       "in a Pandas dataframe.\n",
       "\n",
       "Presto can` be connected to many different backend data catalogs. Currently, it is only connected to the Data Lake, which has the catalog name \"analytics_hive\".\n",
       "\n",
       "Arguments:\n",
       "* `commands`: the SQL to run. A string for a single command or a list of\n",
       "  strings for multiple commands within the same session (useful for things\n",
       "  like setting session variables). Passing more than one query is not\n",
       "  supported; only results from the second will be returned.\n",
       "\u001b[0;31mFile:\u001b[0m      ~/wmfdata-python/wmfdata/presto.py\n",
       "\u001b[0;31mType:\u001b[0m      function\n"
      ]
     },
     "metadata": {},
     "output_type": "display_data"
    }
   ],
   "source": [
    "wmf.presto.run?"
   ]
  },
  {
   "cell_type": "code",
   "execution_count": 4,
   "metadata": {},
   "outputs": [],
   "source": [
    "countries = wmf.presto.run(\"\"\"\n",
    "SELECT *\n",
    "FROM canonical_data.countries\n",
    "\"\"\")"
   ]
  },
  {
   "cell_type": "markdown",
   "metadata": {},
   "source": [
    "Like all the other `run` functions, `wmf.presto.run` returns its results as a [Pandas](https://pandas.pydata.org/docs/) dataframe."
   ]
  },
  {
   "cell_type": "code",
   "execution_count": 5,
   "metadata": {},
   "outputs": [
    {
     "data": {
      "text/html": [
       "<div>\n",
       "<style scoped>\n",
       "    .dataframe tbody tr th:only-of-type {\n",
       "        vertical-align: middle;\n",
       "    }\n",
       "\n",
       "    .dataframe tbody tr th {\n",
       "        vertical-align: top;\n",
       "    }\n",
       "\n",
       "    .dataframe thead th {\n",
       "        text-align: right;\n",
       "    }\n",
       "</style>\n",
       "<table border=\"1\" class=\"dataframe\">\n",
       "  <thead>\n",
       "    <tr style=\"text-align: right;\">\n",
       "      <th></th>\n",
       "      <th>name</th>\n",
       "      <th>iso_code</th>\n",
       "      <th>economic_region</th>\n",
       "      <th>maxmind_continent</th>\n",
       "    </tr>\n",
       "  </thead>\n",
       "  <tbody>\n",
       "    <tr>\n",
       "      <th>0</th>\n",
       "      <td>Afghanistan</td>\n",
       "      <td>AF</td>\n",
       "      <td>Global South</td>\n",
       "      <td>Asia</td>\n",
       "    </tr>\n",
       "    <tr>\n",
       "      <th>1</th>\n",
       "      <td>Åland Islands</td>\n",
       "      <td>AX</td>\n",
       "      <td>Global North</td>\n",
       "      <td>Europe</td>\n",
       "    </tr>\n",
       "    <tr>\n",
       "      <th>2</th>\n",
       "      <td>Albania</td>\n",
       "      <td>AL</td>\n",
       "      <td>Global North</td>\n",
       "      <td>Europe</td>\n",
       "    </tr>\n",
       "    <tr>\n",
       "      <th>3</th>\n",
       "      <td>Algeria</td>\n",
       "      <td>DZ</td>\n",
       "      <td>Global South</td>\n",
       "      <td>Africa</td>\n",
       "    </tr>\n",
       "    <tr>\n",
       "      <th>4</th>\n",
       "      <td>American Samoa</td>\n",
       "      <td>AS</td>\n",
       "      <td>Global South</td>\n",
       "      <td>Oceania</td>\n",
       "    </tr>\n",
       "    <tr>\n",
       "      <th>...</th>\n",
       "      <td>...</td>\n",
       "      <td>...</td>\n",
       "      <td>...</td>\n",
       "      <td>...</td>\n",
       "    </tr>\n",
       "    <tr>\n",
       "      <th>246</th>\n",
       "      <td>Western Sahara</td>\n",
       "      <td>EH</td>\n",
       "      <td>Global South</td>\n",
       "      <td>Africa</td>\n",
       "    </tr>\n",
       "    <tr>\n",
       "      <th>247</th>\n",
       "      <td>Yemen</td>\n",
       "      <td>YE</td>\n",
       "      <td>Global South</td>\n",
       "      <td>Asia</td>\n",
       "    </tr>\n",
       "    <tr>\n",
       "      <th>248</th>\n",
       "      <td>Zambia</td>\n",
       "      <td>ZM</td>\n",
       "      <td>Global South</td>\n",
       "      <td>Africa</td>\n",
       "    </tr>\n",
       "    <tr>\n",
       "      <th>249</th>\n",
       "      <td>Zimbabwe</td>\n",
       "      <td>ZW</td>\n",
       "      <td>Global South</td>\n",
       "      <td>Africa</td>\n",
       "    </tr>\n",
       "    <tr>\n",
       "      <th>250</th>\n",
       "      <td>unknown</td>\n",
       "      <td>--</td>\n",
       "      <td>unknown</td>\n",
       "      <td>unknown</td>\n",
       "    </tr>\n",
       "  </tbody>\n",
       "</table>\n",
       "<p>251 rows × 4 columns</p>\n",
       "</div>"
      ],
      "text/plain": [
       "               name iso_code economic_region maxmind_continent\n",
       "0       Afghanistan       AF    Global South              Asia\n",
       "1     Åland Islands       AX    Global North            Europe\n",
       "2           Albania       AL    Global North            Europe\n",
       "3           Algeria       DZ    Global South            Africa\n",
       "4    American Samoa       AS    Global South           Oceania\n",
       "..              ...      ...             ...               ...\n",
       "246  Western Sahara       EH    Global South            Africa\n",
       "247           Yemen       YE    Global South              Asia\n",
       "248          Zambia       ZM    Global South            Africa\n",
       "249        Zimbabwe       ZW    Global South            Africa\n",
       "250         unknown       --         unknown           unknown\n",
       "\n",
       "[251 rows x 4 columns]"
      ]
     },
     "execution_count": 5,
     "metadata": {},
     "output_type": "execute_result"
    }
   ],
   "source": [
    "countries"
   ]
  },
  {
   "cell_type": "code",
   "execution_count": 6,
   "metadata": {},
   "outputs": [
    {
     "name": "stdout",
     "output_type": "stream",
     "text": [
      "<class 'pandas.core.frame.DataFrame'>\n",
      "RangeIndex: 251 entries, 0 to 250\n",
      "Data columns (total 4 columns):\n",
      " #   Column             Non-Null Count  Dtype \n",
      "---  ------             --------------  ----- \n",
      " 0   name               251 non-null    object\n",
      " 1   iso_code           251 non-null    object\n",
      " 2   economic_region    251 non-null    object\n",
      " 3   maxmind_continent  251 non-null    object\n",
      "dtypes: object(4)\n",
      "memory usage: 8.0+ KB\n"
     ]
    }
   ],
   "source": [
    "countries.info()"
   ]
  },
  {
   "cell_type": "markdown",
   "metadata": {},
   "source": [
    "## Spark"
   ]
  },
  {
   "cell_type": "markdown",
   "metadata": {},
   "source": [
    "Similarly, `wmf.spark` also has a `run` function for running SQL."
   ]
  },
  {
   "cell_type": "code",
   "execution_count": 7,
   "metadata": {},
   "outputs": [
    {
     "data": {
      "text/plain": [
       "\u001b[0;31mSignature:\u001b[0m \u001b[0mwmf\u001b[0m\u001b[0;34m.\u001b[0m\u001b[0mspark\u001b[0m\u001b[0;34m.\u001b[0m\u001b[0mrun\u001b[0m\u001b[0;34m(\u001b[0m\u001b[0mcommands\u001b[0m\u001b[0;34m:\u001b[0m \u001b[0mUnion\u001b[0m\u001b[0;34m[\u001b[0m\u001b[0mstr\u001b[0m\u001b[0;34m,\u001b[0m \u001b[0mList\u001b[0m\u001b[0;34m[\u001b[0m\u001b[0mstr\u001b[0m\u001b[0;34m]\u001b[0m\u001b[0;34m]\u001b[0m\u001b[0;34m)\u001b[0m \u001b[0;34m->\u001b[0m \u001b[0mpandas\u001b[0m\u001b[0;34m.\u001b[0m\u001b[0mcore\u001b[0m\u001b[0;34m.\u001b[0m\u001b[0mframe\u001b[0m\u001b[0;34m.\u001b[0m\u001b[0mDataFrame\u001b[0m\u001b[0;34m\u001b[0m\u001b[0;34m\u001b[0m\u001b[0m\n",
       "\u001b[0;31mDocstring:\u001b[0m\n",
       "Runs SQL commands against the Hive tables in the Data Lake using the\n",
       "PySpark SQL interface.\n",
       "\n",
       "Note: this command will use the existing Spark session if there is one and\n",
       "otherwise create a predefined \"yarn-regular\" session. If you want to use\n",
       "a different type of session, use `create_session` or `create_custom_session`\n",
       "first.\n",
       "\n",
       "Note: this function loads all the output into memory on the client. If\n",
       "your command produces many gigabytes of output, it could cause an\n",
       "out-of-memory error.\n",
       "\n",
       "Arguments:\n",
       "* `commands`: the SQL to run. A string for a single command or a list of\n",
       "  strings for multiple commands within the same session (useful for things\n",
       "  like setting session variables). Passing more than one query is *not*\n",
       "  supported; only results from the second will be returned.\n",
       "\u001b[0;31mFile:\u001b[0m      ~/wmfdata-python/wmfdata/spark.py\n",
       "\u001b[0;31mType:\u001b[0m      function\n"
      ]
     },
     "metadata": {},
     "output_type": "display_data"
    }
   ],
   "source": [
    "wmf.spark.run?"
   ]
  },
  {
   "cell_type": "markdown",
   "metadata": {},
   "source": [
    "Unfortunately, Spark produces a lot of logspam when a session is being created. The messages here are all normal and should just be ignored."
   ]
  },
  {
   "cell_type": "code",
   "execution_count": 12,
   "metadata": {},
   "outputs": [
    {
     "name": "stderr",
     "output_type": "stream",
     "text": [
      "                                                                                \r"
     ]
    },
    {
     "data": {
      "text/html": [
       "<div>\n",
       "<style scoped>\n",
       "    .dataframe tbody tr th:only-of-type {\n",
       "        vertical-align: middle;\n",
       "    }\n",
       "\n",
       "    .dataframe tbody tr th {\n",
       "        vertical-align: top;\n",
       "    }\n",
       "\n",
       "    .dataframe thead th {\n",
       "        text-align: right;\n",
       "    }\n",
       "</style>\n",
       "<table border=\"1\" class=\"dataframe\">\n",
       "  <thead>\n",
       "    <tr style=\"text-align: right;\">\n",
       "      <th></th>\n",
       "      <th>name</th>\n",
       "      <th>iso_code</th>\n",
       "      <th>economic_region</th>\n",
       "      <th>maxmind_continent</th>\n",
       "    </tr>\n",
       "  </thead>\n",
       "  <tbody>\n",
       "    <tr>\n",
       "      <th>0</th>\n",
       "      <td>Afghanistan</td>\n",
       "      <td>AF</td>\n",
       "      <td>Global South</td>\n",
       "      <td>Asia</td>\n",
       "    </tr>\n",
       "    <tr>\n",
       "      <th>1</th>\n",
       "      <td>Åland Islands</td>\n",
       "      <td>AX</td>\n",
       "      <td>Global North</td>\n",
       "      <td>Europe</td>\n",
       "    </tr>\n",
       "    <tr>\n",
       "      <th>2</th>\n",
       "      <td>Albania</td>\n",
       "      <td>AL</td>\n",
       "      <td>Global North</td>\n",
       "      <td>Europe</td>\n",
       "    </tr>\n",
       "    <tr>\n",
       "      <th>3</th>\n",
       "      <td>Algeria</td>\n",
       "      <td>DZ</td>\n",
       "      <td>Global South</td>\n",
       "      <td>Africa</td>\n",
       "    </tr>\n",
       "    <tr>\n",
       "      <th>4</th>\n",
       "      <td>American Samoa</td>\n",
       "      <td>AS</td>\n",
       "      <td>Global South</td>\n",
       "      <td>Oceania</td>\n",
       "    </tr>\n",
       "    <tr>\n",
       "      <th>...</th>\n",
       "      <td>...</td>\n",
       "      <td>...</td>\n",
       "      <td>...</td>\n",
       "      <td>...</td>\n",
       "    </tr>\n",
       "    <tr>\n",
       "      <th>246</th>\n",
       "      <td>Western Sahara</td>\n",
       "      <td>EH</td>\n",
       "      <td>Global South</td>\n",
       "      <td>Africa</td>\n",
       "    </tr>\n",
       "    <tr>\n",
       "      <th>247</th>\n",
       "      <td>Yemen</td>\n",
       "      <td>YE</td>\n",
       "      <td>Global South</td>\n",
       "      <td>Asia</td>\n",
       "    </tr>\n",
       "    <tr>\n",
       "      <th>248</th>\n",
       "      <td>Zambia</td>\n",
       "      <td>ZM</td>\n",
       "      <td>Global South</td>\n",
       "      <td>Africa</td>\n",
       "    </tr>\n",
       "    <tr>\n",
       "      <th>249</th>\n",
       "      <td>Zimbabwe</td>\n",
       "      <td>ZW</td>\n",
       "      <td>Global South</td>\n",
       "      <td>Africa</td>\n",
       "    </tr>\n",
       "    <tr>\n",
       "      <th>250</th>\n",
       "      <td>unknown</td>\n",
       "      <td>--</td>\n",
       "      <td>unknown</td>\n",
       "      <td>unknown</td>\n",
       "    </tr>\n",
       "  </tbody>\n",
       "</table>\n",
       "<p>251 rows × 4 columns</p>\n",
       "</div>"
      ],
      "text/plain": [
       "               name iso_code economic_region maxmind_continent\n",
       "0       Afghanistan       AF    Global South              Asia\n",
       "1     Åland Islands       AX    Global North            Europe\n",
       "2           Albania       AL    Global North            Europe\n",
       "3           Algeria       DZ    Global South            Africa\n",
       "4    American Samoa       AS    Global South           Oceania\n",
       "..              ...      ...             ...               ...\n",
       "246  Western Sahara       EH    Global South            Africa\n",
       "247           Yemen       YE    Global South              Asia\n",
       "248          Zambia       ZM    Global South            Africa\n",
       "249        Zimbabwe       ZW    Global South            Africa\n",
       "250         unknown       --         unknown           unknown\n",
       "\n",
       "[251 rows x 4 columns]"
      ]
     },
     "execution_count": 12,
     "metadata": {},
     "output_type": "execute_result"
    }
   ],
   "source": [
    "countries = wmf.spark.run(\"\"\"\n",
    "SELECT *\n",
    "FROM canonical_data.countries\n",
    "\"\"\")\n",
    "\n",
    "countries"
   ]
  },
  {
   "cell_type": "markdown",
   "metadata": {},
   "source": [
    "If you want to use the [PySpark API](https://spark.apache.org/docs/2.4.4/api/python/pyspark.html) directly, the `spark.create_session` function makes it easy to create a Spark session."
   ]
  },
  {
   "cell_type": "code",
   "execution_count": 7,
   "metadata": {},
   "outputs": [
    {
     "data": {
      "text/plain": [
       "\u001b[0;31mSignature:\u001b[0m\n",
       "\u001b[0mwmf\u001b[0m\u001b[0;34m.\u001b[0m\u001b[0mspark\u001b[0m\u001b[0;34m.\u001b[0m\u001b[0mcreate_session\u001b[0m\u001b[0;34m(\u001b[0m\u001b[0;34m\u001b[0m\n",
       "\u001b[0;34m\u001b[0m    \u001b[0mtype\u001b[0m\u001b[0;34m=\u001b[0m\u001b[0;34m'yarn-regular'\u001b[0m\u001b[0;34m,\u001b[0m\u001b[0;34m\u001b[0m\n",
       "\u001b[0;34m\u001b[0m    \u001b[0mapp_name\u001b[0m\u001b[0;34m=\u001b[0m\u001b[0;32mNone\u001b[0m\u001b[0;34m,\u001b[0m\u001b[0;34m\u001b[0m\n",
       "\u001b[0;34m\u001b[0m    \u001b[0mextra_settings\u001b[0m\u001b[0;34m=\u001b[0m\u001b[0;34m{\u001b[0m\u001b[0;34m}\u001b[0m\u001b[0;34m,\u001b[0m\u001b[0;34m\u001b[0m\n",
       "\u001b[0;34m\u001b[0m    \u001b[0mship_python_env\u001b[0m\u001b[0;34m=\u001b[0m\u001b[0;32mFalse\u001b[0m\u001b[0;34m,\u001b[0m\u001b[0;34m\u001b[0m\n",
       "\u001b[0;34m\u001b[0m\u001b[0;34m)\u001b[0m\u001b[0;34m\u001b[0m\u001b[0;34m\u001b[0m\u001b[0m\n",
       "\u001b[0;31mDocstring:\u001b[0m\n",
       "Creates a new Spark session based on one of the PREDEFINED_SPARK_SESSION\n",
       "types, stopping any existing session first.\n",
       "\n",
       "Arguments:\n",
       "* `type`: the type of Spark session to create.\n",
       "    * \"local\": Run the command in a local Spark process. Use this for\n",
       "      prototyping or querying small-ish data (less than a couple of GB).\n",
       "    * \"yarn-regular\": the default; able to use up to 15% of Hadoop cluster\n",
       "      resources (This is the default).\n",
       "    * \"yarn-large\": for queries which require more processing (e.g. joins) or\n",
       "      which access more data; able to use up to 30% of Hadoop cluster\n",
       "      resources.\n",
       "* `extra_settings`: A dict of additional Spark configs to use when creating\n",
       "  the Spark session. These will override the defaults specified\n",
       "  by `type`.\n",
       "* `ship_python_env`: If master='yarn' and this is True, a conda env will be packed\n",
       "  and shipped to remote Spark executors.  This is useful if your active conda env\n",
       "  has Python or other packages that the executors will need to do their work.\n",
       "\u001b[0;31mFile:\u001b[0m      ~/wmfdata-python/wmfdata/spark.py\n",
       "\u001b[0;31mType:\u001b[0m      function\n"
      ]
     },
     "metadata": {},
     "output_type": "display_data"
    }
   ],
   "source": [
    "wmf.spark.create_session?"
   ]
  },
  {
   "cell_type": "code",
   "execution_count": 8,
   "metadata": {},
   "outputs": [
    {
     "name": "stderr",
     "output_type": "stream",
     "text": [
      "22/11/22 02:26:24 WARN SparkConf: Note that spark.local.dir will be overridden by the value set by the cluster manager (via SPARK_LOCAL_DIRS in mesos/standalone/kubernetes and LOCAL_DIRS in YARN).\n",
      "22/11/22 02:26:24 WARN Utils: Service 'sparkDriver' could not bind on port 12000. Attempting port 12001.\n",
      "22/11/22 02:26:24 WARN Utils: Service 'sparkDriver' could not bind on port 12001. Attempting port 12002.\n",
      "22/11/22 02:26:24 WARN Utils: Service 'sparkDriver' could not bind on port 12002. Attempting port 12003.\n",
      "22/11/22 02:26:24 WARN Utils: Service 'sparkDriver' could not bind on port 12003. Attempting port 12004.\n",
      "22/11/22 02:26:24 WARN Utils: Service 'SparkUI' could not bind on port 4040. Attempting port 4041.\n",
      "22/11/22 02:26:24 WARN Utils: Service 'SparkUI' could not bind on port 4041. Attempting port 4042.\n",
      "22/11/22 02:26:24 WARN Utils: Service 'SparkUI' could not bind on port 4042. Attempting port 4043.\n",
      "22/11/22 02:26:24 WARN Utils: Service 'SparkUI' could not bind on port 4043. Attempting port 4044.\n",
      "22/11/22 02:26:30 WARN Utils: Service 'org.apache.spark.network.netty.NettyBlockTransferService' could not bind on port 13000. Attempting port 13001.\n",
      "22/11/22 02:26:30 WARN Utils: Service 'org.apache.spark.network.netty.NettyBlockTransferService' could not bind on port 13001. Attempting port 13002.\n",
      "22/11/22 02:26:30 WARN Utils: Service 'org.apache.spark.network.netty.NettyBlockTransferService' could not bind on port 13002. Attempting port 13003.\n",
      "22/11/22 02:26:30 WARN Utils: Service 'org.apache.spark.network.netty.NettyBlockTransferService' could not bind on port 13003. Attempting port 13004.\n"
     ]
    }
   ],
   "source": [
    "ss = wmf.spark.create_session()"
   ]
  },
  {
   "cell_type": "code",
   "execution_count": 9,
   "metadata": {},
   "outputs": [
    {
     "data": {
      "text/html": [
       "\n",
       "            <div>\n",
       "                <p><b>SparkSession - hive</b></p>\n",
       "                \n",
       "        <div>\n",
       "            <p><b>SparkContext</b></p>\n",
       "\n",
       "            <p><a href=\"http://stat1005.eqiad.wmnet:4044\">Spark UI</a></p>\n",
       "\n",
       "            <dl>\n",
       "              <dt>Version</dt>\n",
       "                <dd><code>v2.4.4</code></dd>\n",
       "              <dt>Master</dt>\n",
       "                <dd><code>yarn</code></dd>\n",
       "              <dt>AppName</dt>\n",
       "                <dd><code>wmfdata-yarn-regular</code></dd>\n",
       "            </dl>\n",
       "        </div>\n",
       "        \n",
       "            </div>\n",
       "        "
      ],
      "text/plain": [
       "<pyspark.sql.session.SparkSession at 0x7f25cbd64d50>"
      ]
     },
     "execution_count": 9,
     "metadata": {},
     "output_type": "execute_result"
    }
   ],
   "source": [
    "ss"
   ]
  },
  {
   "cell_type": "markdown",
   "metadata": {},
   "source": [
    "`spark.create_custom_session` allows you to create a Spark session with complete control over all the settings."
   ]
  },
  {
   "cell_type": "code",
   "execution_count": 10,
   "metadata": {},
   "outputs": [
    {
     "data": {
      "text/plain": [
       "\u001b[0;31mSignature:\u001b[0m\n",
       "\u001b[0mwmf\u001b[0m\u001b[0;34m.\u001b[0m\u001b[0mspark\u001b[0m\u001b[0;34m.\u001b[0m\u001b[0mcreate_custom_session\u001b[0m\u001b[0;34m(\u001b[0m\u001b[0;34m\u001b[0m\n",
       "\u001b[0;34m\u001b[0m    \u001b[0mmaster\u001b[0m\u001b[0;34m=\u001b[0m\u001b[0;34m'local[2]'\u001b[0m\u001b[0;34m,\u001b[0m\u001b[0;34m\u001b[0m\n",
       "\u001b[0;34m\u001b[0m    \u001b[0mapp_name\u001b[0m\u001b[0;34m=\u001b[0m\u001b[0;34m'wmfdata-custom'\u001b[0m\u001b[0;34m,\u001b[0m\u001b[0;34m\u001b[0m\n",
       "\u001b[0;34m\u001b[0m    \u001b[0mspark_config\u001b[0m\u001b[0;34m=\u001b[0m\u001b[0;34m{\u001b[0m\u001b[0;34m}\u001b[0m\u001b[0;34m,\u001b[0m\u001b[0;34m\u001b[0m\n",
       "\u001b[0;34m\u001b[0m    \u001b[0mship_python_env\u001b[0m\u001b[0;34m=\u001b[0m\u001b[0;32mFalse\u001b[0m\u001b[0;34m,\u001b[0m\u001b[0;34m\u001b[0m\n",
       "\u001b[0;34m\u001b[0m    \u001b[0mconda_pack_kwargs\u001b[0m\u001b[0;34m=\u001b[0m\u001b[0;34m{\u001b[0m\u001b[0;34m}\u001b[0m\u001b[0;34m,\u001b[0m\u001b[0;34m\u001b[0m\n",
       "\u001b[0;34m\u001b[0m\u001b[0;34m)\u001b[0m\u001b[0;34m\u001b[0m\u001b[0;34m\u001b[0m\u001b[0m\n",
       "\u001b[0;31mDocstring:\u001b[0m\n",
       "Creates a new Spark session, stopping any existing session first.\n",
       "\n",
       "Use this instead of create_session if you'd rather have manual control over\n",
       "your SparkSession configuration.\n",
       "\n",
       "Arguments:\n",
       "* `master`: passed to SparkSession.builder.master()\n",
       "  If this is \"yarn\" and and a conda env is active and and ship_python_env=False,\n",
       "  remote executors will be configured to use conda.conda_base_env_prefix(),\n",
       "  which for Spark 2 defaults to anaconda-wmf and for Spark 3 defalts to conda-analytics.\n",
       "  This should usually work as both are installed on all WMF YARN worker nodes.\n",
       "  If your conda environment has required packages installed that are not in those, set\n",
       "  ship_python_env=True.\n",
       "* `app_name`: passed to SparkSession.builder.appName().\n",
       "* `spark_config`: passed to SparkSession.builder.config()\n",
       "* `ship_python_env`: If master='yarn' and this is True, a conda env will be packed\n",
       "  and shipped to remote Spark executors.  This is useful if your conda env\n",
       "  has Python or other packages that the executors will need to do their work.\n",
       "* `conda_pack_kwargs`: Args to pass to conda_pack.pack(). If none are given, this will\n",
       "  call conda_pack.pack() with no args, causing the default currently active\n",
       "  conda environment to be packed.\n",
       "  You can pack and ship any conda environment by setting appropriate args here.\n",
       "  See https://conda.github.io/conda-pack/api.html#pack\n",
       "  If True, this will fail if conda and conda_pack are not installed.\n",
       "\u001b[0;31mFile:\u001b[0m      ~/wmfdata-python/wmfdata/spark.py\n",
       "\u001b[0;31mType:\u001b[0m      function\n"
      ]
     },
     "metadata": {},
     "output_type": "display_data"
    }
   ],
   "source": [
    "wmf.spark.create_custom_session?"
   ]
  },
  {
   "cell_type": "code",
   "execution_count": 11,
   "metadata": {},
   "outputs": [
    {
     "name": "stderr",
     "output_type": "stream",
     "text": [
      "22/11/22 02:26:31 WARN SparkConf: Note that spark.local.dir will be overridden by the value set by the cluster manager (via SPARK_LOCAL_DIRS in mesos/standalone/kubernetes and LOCAL_DIRS in YARN).\n",
      "22/11/22 02:26:31 WARN Utils: Service 'sparkDriver' could not bind on port 12000. Attempting port 12001.\n",
      "22/11/22 02:26:31 WARN Utils: Service 'sparkDriver' could not bind on port 12001. Attempting port 12002.\n",
      "22/11/22 02:26:31 WARN Utils: Service 'sparkDriver' could not bind on port 12002. Attempting port 12003.\n",
      "22/11/22 02:26:31 WARN Utils: Service 'sparkDriver' could not bind on port 12003. Attempting port 12004.\n",
      "22/11/22 02:26:31 WARN Utils: Service 'SparkUI' could not bind on port 4040. Attempting port 4041.\n",
      "22/11/22 02:26:31 WARN Utils: Service 'SparkUI' could not bind on port 4041. Attempting port 4042.\n",
      "22/11/22 02:26:31 WARN Utils: Service 'SparkUI' could not bind on port 4042. Attempting port 4043.\n",
      "22/11/22 02:26:31 WARN Utils: Service 'SparkUI' could not bind on port 4043. Attempting port 4044.\n",
      "22/11/22 02:26:37 WARN Utils: Service 'org.apache.spark.network.netty.NettyBlockTransferService' could not bind on port 13000. Attempting port 13001.\n",
      "22/11/22 02:26:37 WARN Utils: Service 'org.apache.spark.network.netty.NettyBlockTransferService' could not bind on port 13001. Attempting port 13002.\n",
      "22/11/22 02:26:37 WARN Utils: Service 'org.apache.spark.network.netty.NettyBlockTransferService' could not bind on port 13002. Attempting port 13003.\n",
      "22/11/22 02:26:37 WARN Utils: Service 'org.apache.spark.network.netty.NettyBlockTransferService' could not bind on port 13003. Attempting port 13004.\n",
      "22/11/22 02:26:37 WARN YarnSchedulerBackend$YarnSchedulerEndpoint: Attempted to request executors before the AM has registered!\n"
     ]
    }
   ],
   "source": [
    "ss = wmf.spark.create_custom_session(\n",
    "    master=\"yarn\",\n",
    "    spark_config={\n",
    "        \"spark.driver.memory\": \"2g\",\n",
    "        \"spark.dynamicAllocation.maxExecutors\": 64,\n",
    "        \"spark.executor.memory\": \"8g\",\n",
    "        \"spark.executor.cores\": 4,\n",
    "        \"spark.sql.shuffle.partitions\": 256\n",
    "    }\n",
    ")"
   ]
  },
  {
   "cell_type": "code",
   "execution_count": 12,
   "metadata": {},
   "outputs": [
    {
     "data": {
      "text/html": [
       "\n",
       "            <div>\n",
       "                <p><b>SparkSession - hive</b></p>\n",
       "                \n",
       "        <div>\n",
       "            <p><b>SparkContext</b></p>\n",
       "\n",
       "            <p><a href=\"http://stat1005.eqiad.wmnet:4044\">Spark UI</a></p>\n",
       "\n",
       "            <dl>\n",
       "              <dt>Version</dt>\n",
       "                <dd><code>v2.4.4</code></dd>\n",
       "              <dt>Master</dt>\n",
       "                <dd><code>yarn</code></dd>\n",
       "              <dt>AppName</dt>\n",
       "                <dd><code>wmfdata-custom</code></dd>\n",
       "            </dl>\n",
       "        </div>\n",
       "        \n",
       "            </div>\n",
       "        "
      ],
      "text/plain": [
       "<pyspark.sql.session.SparkSession at 0x7f25cbd64b90>"
      ]
     },
     "execution_count": 12,
     "metadata": {},
     "output_type": "execute_result"
    }
   ],
   "source": [
    "ss"
   ]
  },
  {
   "cell_type": "markdown",
   "metadata": {
    "tags": []
   },
   "source": [
    "## MariaDB"
   ]
  },
  {
   "cell_type": "markdown",
   "metadata": {},
   "source": [
    "`wmf.mariadb.run` allows you to run SQL queries using MariaDB. Unlike the other `run` functions, which access the same data in the [Data Lake](https://wikitech.wikimedia.org/wiki/Analytics/Data_Lake), this accesses a different set of data in the [Analytics MediaWiki replicas](https://wikitech.wikimedia.org/wiki/Analytics/Systems/MariaDB). "
   ]
  },
  {
   "cell_type": "code",
   "execution_count": 16,
   "metadata": {},
   "outputs": [
    {
     "data": {
      "text/plain": [
       "\u001b[0;31mSignature:\u001b[0m\n",
       "\u001b[0mwmf\u001b[0m\u001b[0;34m.\u001b[0m\u001b[0mmariadb\u001b[0m\u001b[0;34m.\u001b[0m\u001b[0mrun\u001b[0m\u001b[0;34m(\u001b[0m\u001b[0;34m\u001b[0m\n",
       "\u001b[0;34m\u001b[0m    \u001b[0mcommands\u001b[0m\u001b[0;34m,\u001b[0m\u001b[0;34m\u001b[0m\n",
       "\u001b[0;34m\u001b[0m    \u001b[0mdbs\u001b[0m\u001b[0;34m,\u001b[0m\u001b[0;34m\u001b[0m\n",
       "\u001b[0;34m\u001b[0m    \u001b[0muse_x1\u001b[0m\u001b[0;34m=\u001b[0m\u001b[0;32mFalse\u001b[0m\u001b[0;34m,\u001b[0m\u001b[0;34m\u001b[0m\n",
       "\u001b[0;34m\u001b[0m    \u001b[0mformat\u001b[0m\u001b[0;34m=\u001b[0m\u001b[0;34m'pandas'\u001b[0m\u001b[0;34m,\u001b[0m\u001b[0;34m\u001b[0m\n",
       "\u001b[0;34m\u001b[0m    \u001b[0mdate_col\u001b[0m\u001b[0;34m=\u001b[0m\u001b[0;32mNone\u001b[0m\u001b[0;34m,\u001b[0m\u001b[0;34m\u001b[0m\n",
       "\u001b[0;34m\u001b[0m    \u001b[0mindex_col\u001b[0m\u001b[0;34m=\u001b[0m\u001b[0;32mNone\u001b[0m\u001b[0;34m,\u001b[0m\u001b[0;34m\u001b[0m\n",
       "\u001b[0;34m\u001b[0m\u001b[0;34m)\u001b[0m\u001b[0;34m\u001b[0m\u001b[0;34m\u001b[0m\u001b[0m\n",
       "\u001b[0;31mDocstring:\u001b[0m\n",
       "Run SQL queries or commands on the Analytics MediaWiki replicas.\n",
       "\n",
       "Arguments:\n",
       "* `commands`: the SQL to run. A string for a single command or a list of\n",
       "  strings for multiple commands within the same session (useful for things\n",
       "  like setting session variables).\n",
       "* `dbs`: a string for one database or a list to run the commands on\n",
       "  multiple databases and concatenate the results.  Possible values:\n",
       "    * a wiki's database code (e.g. \"enwiki\", \"arwiktionary\", \"wikidatawiki\")\n",
       "      for its MediaWiki database (or its ExtensionStorage database if\n",
       "      `use_x1` is passed)\n",
       "    * \"logs\" for the EventLogging\n",
       "    * \"centralauth\" for global accounts\n",
       "    * \"wikishared\" for cross-wiki ExtensionStorage\n",
       "    * \"staging\" for user-writable ad-hoc tests and analysis\n",
       "* `use_x1`: whether to the connect to the given database on the\n",
       "  ExtensionStorage replica (only works for wiki databases or \"wikishared\").\n",
       "  Default false.\n",
       "* `date_col`: this parses the specified column or columns from MediaWiki\n",
       "  datetimes into Pandas datetimes.\n",
       "* `index_col`: passed to pandas.read_sql_query to set a columns or columns\n",
       "  as the index.\n",
       "\u001b[0;31mFile:\u001b[0m      ~/wmfdata-python/wmfdata/mariadb.py\n",
       "\u001b[0;31mType:\u001b[0m      function\n"
      ]
     },
     "metadata": {},
     "output_type": "display_data"
    }
   ],
   "source": [
    "wmf.mariadb.run?"
   ]
  },
  {
   "cell_type": "code",
   "execution_count": 17,
   "metadata": {},
   "outputs": [
    {
     "data": {
      "text/html": [
       "<div>\n",
       "<style scoped>\n",
       "    .dataframe tbody tr th:only-of-type {\n",
       "        vertical-align: middle;\n",
       "    }\n",
       "\n",
       "    .dataframe tbody tr th {\n",
       "        vertical-align: top;\n",
       "    }\n",
       "\n",
       "    .dataframe thead th {\n",
       "        text-align: right;\n",
       "    }\n",
       "</style>\n",
       "<table border=\"1\" class=\"dataframe\">\n",
       "  <thead>\n",
       "    <tr style=\"text-align: right;\">\n",
       "      <th></th>\n",
       "      <th>page_id</th>\n",
       "      <th>page_namespace</th>\n",
       "      <th>page_title</th>\n",
       "      <th>page_is_redirect</th>\n",
       "      <th>page_is_new</th>\n",
       "      <th>page_random</th>\n",
       "      <th>page_touched</th>\n",
       "      <th>page_links_updated</th>\n",
       "      <th>page_latest</th>\n",
       "      <th>page_len</th>\n",
       "      <th>page_content_model</th>\n",
       "      <th>page_lang</th>\n",
       "    </tr>\n",
       "  </thead>\n",
       "  <tbody>\n",
       "    <tr>\n",
       "      <th>0</th>\n",
       "      <td>10</td>\n",
       "      <td>0</td>\n",
       "      <td>AccessibleComputing</td>\n",
       "      <td>1</td>\n",
       "      <td>0</td>\n",
       "      <td>0.331671</td>\n",
       "      <td>20221115041429</td>\n",
       "      <td>20221023043017</td>\n",
       "      <td>1002250816</td>\n",
       "      <td>111</td>\n",
       "      <td>wikitext</td>\n",
       "      <td>None</td>\n",
       "    </tr>\n",
       "    <tr>\n",
       "      <th>1</th>\n",
       "      <td>12</td>\n",
       "      <td>0</td>\n",
       "      <td>Anarchism</td>\n",
       "      <td>0</td>\n",
       "      <td>0</td>\n",
       "      <td>0.786172</td>\n",
       "      <td>20221121042644</td>\n",
       "      <td>20221121042656</td>\n",
       "      <td>1122800568</td>\n",
       "      <td>109009</td>\n",
       "      <td>wikitext</td>\n",
       "      <td>None</td>\n",
       "    </tr>\n",
       "    <tr>\n",
       "      <th>2</th>\n",
       "      <td>13</td>\n",
       "      <td>0</td>\n",
       "      <td>AfghanistanHistory</td>\n",
       "      <td>1</td>\n",
       "      <td>0</td>\n",
       "      <td>0.062150</td>\n",
       "      <td>20221112062329</td>\n",
       "      <td>20221023043017</td>\n",
       "      <td>783865149</td>\n",
       "      <td>90</td>\n",
       "      <td>wikitext</td>\n",
       "      <td>None</td>\n",
       "    </tr>\n",
       "    <tr>\n",
       "      <th>3</th>\n",
       "      <td>14</td>\n",
       "      <td>0</td>\n",
       "      <td>AfghanistanGeography</td>\n",
       "      <td>1</td>\n",
       "      <td>0</td>\n",
       "      <td>0.952234</td>\n",
       "      <td>20221023042651</td>\n",
       "      <td>20221023043017</td>\n",
       "      <td>783865160</td>\n",
       "      <td>92</td>\n",
       "      <td>wikitext</td>\n",
       "      <td>None</td>\n",
       "    </tr>\n",
       "    <tr>\n",
       "      <th>4</th>\n",
       "      <td>15</td>\n",
       "      <td>0</td>\n",
       "      <td>AfghanistanPeople</td>\n",
       "      <td>1</td>\n",
       "      <td>0</td>\n",
       "      <td>0.574721</td>\n",
       "      <td>20221106222659</td>\n",
       "      <td>20221023043017</td>\n",
       "      <td>783865293</td>\n",
       "      <td>95</td>\n",
       "      <td>wikitext</td>\n",
       "      <td>None</td>\n",
       "    </tr>\n",
       "    <tr>\n",
       "      <th>5</th>\n",
       "      <td>18</td>\n",
       "      <td>0</td>\n",
       "      <td>AfghanistanCommunications</td>\n",
       "      <td>1</td>\n",
       "      <td>0</td>\n",
       "      <td>0.751068</td>\n",
       "      <td>20221023042651</td>\n",
       "      <td>20221023043017</td>\n",
       "      <td>783865299</td>\n",
       "      <td>97</td>\n",
       "      <td>wikitext</td>\n",
       "      <td>None</td>\n",
       "    </tr>\n",
       "    <tr>\n",
       "      <th>6</th>\n",
       "      <td>19</td>\n",
       "      <td>0</td>\n",
       "      <td>AfghanistanTransportations</td>\n",
       "      <td>1</td>\n",
       "      <td>0</td>\n",
       "      <td>0.674273</td>\n",
       "      <td>20221023042651</td>\n",
       "      <td>20221023043017</td>\n",
       "      <td>783821589</td>\n",
       "      <td>113</td>\n",
       "      <td>wikitext</td>\n",
       "      <td>None</td>\n",
       "    </tr>\n",
       "    <tr>\n",
       "      <th>7</th>\n",
       "      <td>20</td>\n",
       "      <td>0</td>\n",
       "      <td>AfghanistanMilitary</td>\n",
       "      <td>1</td>\n",
       "      <td>0</td>\n",
       "      <td>0.118158</td>\n",
       "      <td>20221118025602</td>\n",
       "      <td>20221023043017</td>\n",
       "      <td>1093067805</td>\n",
       "      <td>154</td>\n",
       "      <td>wikitext</td>\n",
       "      <td>None</td>\n",
       "    </tr>\n",
       "    <tr>\n",
       "      <th>8</th>\n",
       "      <td>21</td>\n",
       "      <td>0</td>\n",
       "      <td>AfghanistanTransnationalIssues</td>\n",
       "      <td>1</td>\n",
       "      <td>0</td>\n",
       "      <td>0.567973</td>\n",
       "      <td>20221031093955</td>\n",
       "      <td>20221023043017</td>\n",
       "      <td>783821743</td>\n",
       "      <td>101</td>\n",
       "      <td>wikitext</td>\n",
       "      <td>None</td>\n",
       "    </tr>\n",
       "    <tr>\n",
       "      <th>9</th>\n",
       "      <td>23</td>\n",
       "      <td>0</td>\n",
       "      <td>AssistiveTechnology</td>\n",
       "      <td>1</td>\n",
       "      <td>0</td>\n",
       "      <td>0.723041</td>\n",
       "      <td>20221107141956</td>\n",
       "      <td>20221023043017</td>\n",
       "      <td>783865310</td>\n",
       "      <td>88</td>\n",
       "      <td>wikitext</td>\n",
       "      <td>None</td>\n",
       "    </tr>\n",
       "  </tbody>\n",
       "</table>\n",
       "</div>"
      ],
      "text/plain": [
       "   page_id  page_namespace                      page_title  page_is_redirect  \\\n",
       "0       10               0             AccessibleComputing                 1   \n",
       "1       12               0                       Anarchism                 0   \n",
       "2       13               0              AfghanistanHistory                 1   \n",
       "3       14               0            AfghanistanGeography                 1   \n",
       "4       15               0               AfghanistanPeople                 1   \n",
       "5       18               0       AfghanistanCommunications                 1   \n",
       "6       19               0      AfghanistanTransportations                 1   \n",
       "7       20               0             AfghanistanMilitary                 1   \n",
       "8       21               0  AfghanistanTransnationalIssues                 1   \n",
       "9       23               0             AssistiveTechnology                 1   \n",
       "\n",
       "   page_is_new  page_random    page_touched page_links_updated  page_latest  \\\n",
       "0            0     0.331671  20221115041429     20221023043017   1002250816   \n",
       "1            0     0.786172  20221121042644     20221121042656   1122800568   \n",
       "2            0     0.062150  20221112062329     20221023043017    783865149   \n",
       "3            0     0.952234  20221023042651     20221023043017    783865160   \n",
       "4            0     0.574721  20221106222659     20221023043017    783865293   \n",
       "5            0     0.751068  20221023042651     20221023043017    783865299   \n",
       "6            0     0.674273  20221023042651     20221023043017    783821589   \n",
       "7            0     0.118158  20221118025602     20221023043017   1093067805   \n",
       "8            0     0.567973  20221031093955     20221023043017    783821743   \n",
       "9            0     0.723041  20221107141956     20221023043017    783865310   \n",
       "\n",
       "   page_len page_content_model page_lang  \n",
       "0       111           wikitext      None  \n",
       "1    109009           wikitext      None  \n",
       "2        90           wikitext      None  \n",
       "3        92           wikitext      None  \n",
       "4        95           wikitext      None  \n",
       "5        97           wikitext      None  \n",
       "6       113           wikitext      None  \n",
       "7       154           wikitext      None  \n",
       "8       101           wikitext      None  \n",
       "9        88           wikitext      None  "
      ]
     },
     "execution_count": 17,
     "metadata": {},
     "output_type": "execute_result"
    }
   ],
   "source": [
    "wmf.mariadb.run(\n",
    "    \"\"\"\n",
    "    SELECT *\n",
    "    FROM page\n",
    "    LIMIT 10\n",
    "    \"\"\",\n",
    "    \"enwiki\"\n",
    ")"
   ]
  },
  {
   "cell_type": "markdown",
   "metadata": {},
   "source": [
    "Here's an example showing some of the function's fancier features. It's running the query against five different databases and combining the results (note that you have to use the `DATABASE` function in the query so you can tell which results came from which wiki). It also parsing the `user_registration` column from a MediaWiki date string (e.g. `\"20100915021055\"`) to a proper Pandas datetime and then setting the `user_id` column as the index of the dataframe."
   ]
  },
  {
   "cell_type": "code",
   "execution_count": 39,
   "metadata": {},
   "outputs": [
    {
     "data": {
      "text/html": [
       "<div>\n",
       "<style scoped>\n",
       "    .dataframe tbody tr th:only-of-type {\n",
       "        vertical-align: middle;\n",
       "    }\n",
       "\n",
       "    .dataframe tbody tr th {\n",
       "        vertical-align: top;\n",
       "    }\n",
       "\n",
       "    .dataframe thead th {\n",
       "        text-align: right;\n",
       "    }\n",
       "</style>\n",
       "<table border=\"1\" class=\"dataframe\">\n",
       "  <thead>\n",
       "    <tr style=\"text-align: right;\">\n",
       "      <th></th>\n",
       "      <th>wiki</th>\n",
       "      <th>user_name</th>\n",
       "      <th>user_registration</th>\n",
       "    </tr>\n",
       "    <tr>\n",
       "      <th>user_id</th>\n",
       "      <th></th>\n",
       "      <th></th>\n",
       "      <th></th>\n",
       "    </tr>\n",
       "  </thead>\n",
       "  <tbody>\n",
       "    <tr>\n",
       "      <th>13076609</th>\n",
       "      <td>enwiki</td>\n",
       "      <td>Neil Shah-Quinn</td>\n",
       "      <td>2010-09-15 02:10:55</td>\n",
       "    </tr>\n",
       "    <tr>\n",
       "      <th>24753008</th>\n",
       "      <td>enwiki</td>\n",
       "      <td>Neil Shah-Quinn (WMF)</td>\n",
       "      <td>2015-04-13 15:45:38</td>\n",
       "    </tr>\n",
       "    <tr>\n",
       "      <th>1726054</th>\n",
       "      <td>eswiki</td>\n",
       "      <td>Neil Shah-Quinn</td>\n",
       "      <td>2011-02-04 23:06:08</td>\n",
       "    </tr>\n",
       "    <tr>\n",
       "      <th>3643219</th>\n",
       "      <td>eswiki</td>\n",
       "      <td>Neil Shah-Quinn (WMF)</td>\n",
       "      <td>2015-04-16 17:21:43</td>\n",
       "    </tr>\n",
       "    <tr>\n",
       "      <th>1533207</th>\n",
       "      <td>frwiki</td>\n",
       "      <td>Neil Shah-Quinn</td>\n",
       "      <td>2013-04-07 19:35:02</td>\n",
       "    </tr>\n",
       "    <tr>\n",
       "      <th>2194938</th>\n",
       "      <td>frwiki</td>\n",
       "      <td>Neil Shah-Quinn (WMF)</td>\n",
       "      <td>2015-04-20 17:43:18</td>\n",
       "    </tr>\n",
       "    <tr>\n",
       "      <th>311761</th>\n",
       "      <td>arwiki</td>\n",
       "      <td>Neil Shah-Quinn</td>\n",
       "      <td>2010-09-20 16:00:11</td>\n",
       "    </tr>\n",
       "    <tr>\n",
       "      <th>981709</th>\n",
       "      <td>arwiki</td>\n",
       "      <td>Neil Shah-Quinn (WMF)</td>\n",
       "      <td>2015-04-17 22:09:46</td>\n",
       "    </tr>\n",
       "    <tr>\n",
       "      <th>701248</th>\n",
       "      <td>jawiki</td>\n",
       "      <td>Neil Shah-Quinn</td>\n",
       "      <td>2013-01-24 02:55:15</td>\n",
       "    </tr>\n",
       "    <tr>\n",
       "      <th>983069</th>\n",
       "      <td>jawiki</td>\n",
       "      <td>Neil Shah-Quinn (WMF)</td>\n",
       "      <td>2015-06-03 15:06:39</td>\n",
       "    </tr>\n",
       "  </tbody>\n",
       "</table>\n",
       "</div>"
      ],
      "text/plain": [
       "            wiki              user_name   user_registration\n",
       "user_id                                                    \n",
       "13076609  enwiki        Neil Shah-Quinn 2010-09-15 02:10:55\n",
       "24753008  enwiki  Neil Shah-Quinn (WMF) 2015-04-13 15:45:38\n",
       "1726054   eswiki        Neil Shah-Quinn 2011-02-04 23:06:08\n",
       "3643219   eswiki  Neil Shah-Quinn (WMF) 2015-04-16 17:21:43\n",
       "1533207   frwiki        Neil Shah-Quinn 2013-04-07 19:35:02\n",
       "2194938   frwiki  Neil Shah-Quinn (WMF) 2015-04-20 17:43:18\n",
       "311761    arwiki        Neil Shah-Quinn 2010-09-20 16:00:11\n",
       "981709    arwiki  Neil Shah-Quinn (WMF) 2015-04-17 22:09:46\n",
       "701248    jawiki        Neil Shah-Quinn 2013-01-24 02:55:15\n",
       "983069    jawiki  Neil Shah-Quinn (WMF) 2015-06-03 15:06:39"
      ]
     },
     "execution_count": 39,
     "metadata": {},
     "output_type": "execute_result"
    }
   ],
   "source": [
    "users = wmf.mariadb.run(\n",
    "    \"\"\"\n",
    "    SELECT\n",
    "        DATABASE() AS wiki,\n",
    "        user_name,\n",
    "        user_id,\n",
    "        user_registration\n",
    "    FROM user\n",
    "    WHERE user_name IN ('Neil Shah-Quinn', 'Neil Shah-Quinn (WMF)')\n",
    "    \"\"\",\n",
    "    dbs=[\"enwiki\", \"eswiki\", \"frwiki\", \"arwiki\", \"jawiki\"],\n",
    "    date_col=\"user_registration\",\n",
    "    index_col=\"user_id\"\n",
    ")\n",
    "\n",
    "users"
   ]
  },
  {
   "cell_type": "markdown",
   "metadata": {},
   "source": [
    "## Hive\n",
    "\n",
    "`wmf.hive.run` allows you to run SQL using Hive, although in general it's better to use Presto or Spark to query the Data Lake instead."
   ]
  },
  {
   "cell_type": "code",
   "execution_count": 9,
   "metadata": {},
   "outputs": [
    {
     "data": {
      "text/plain": [
       "\u001b[0;31mSignature:\u001b[0m \u001b[0mwmf\u001b[0m\u001b[0;34m.\u001b[0m\u001b[0mhive\u001b[0m\u001b[0;34m.\u001b[0m\u001b[0mrun\u001b[0m\u001b[0;34m(\u001b[0m\u001b[0mcommands\u001b[0m\u001b[0;34m)\u001b[0m\u001b[0;34m\u001b[0m\u001b[0;34m\u001b[0m\u001b[0m\n",
       "\u001b[0;31mDocstring:\u001b[0m\n",
       "Runs SQL commands against the Hive tables in the Data Lake.\n",
       "\n",
       "Arguments:\n",
       "* `commands`: the SQL to run. A string for a single command or a list of\n",
       "  strings for multiple commands within the same session (useful for things\n",
       "  like setting session variables). Passing more than one query is *not*\n",
       "  supported, and will usually result in an error.\n",
       "\u001b[0;31mFile:\u001b[0m      ~/wmfdata-python/wmfdata/hive.py\n",
       "\u001b[0;31mType:\u001b[0m      function\n"
      ]
     },
     "metadata": {},
     "output_type": "display_data"
    }
   ],
   "source": [
    "wmf.hive.run?"
   ]
  },
  {
   "cell_type": "code",
   "execution_count": 11,
   "metadata": {},
   "outputs": [
    {
     "data": {
      "text/html": [
       "<div>\n",
       "<style scoped>\n",
       "    .dataframe tbody tr th:only-of-type {\n",
       "        vertical-align: middle;\n",
       "    }\n",
       "\n",
       "    .dataframe tbody tr th {\n",
       "        vertical-align: top;\n",
       "    }\n",
       "\n",
       "    .dataframe thead th {\n",
       "        text-align: right;\n",
       "    }\n",
       "</style>\n",
       "<table border=\"1\" class=\"dataframe\">\n",
       "  <thead>\n",
       "    <tr style=\"text-align: right;\">\n",
       "      <th></th>\n",
       "      <th>name</th>\n",
       "      <th>iso_code</th>\n",
       "      <th>economic_region</th>\n",
       "      <th>maxmind_continent</th>\n",
       "    </tr>\n",
       "  </thead>\n",
       "  <tbody>\n",
       "    <tr>\n",
       "      <th>0</th>\n",
       "      <td>Afghanistan</td>\n",
       "      <td>AF</td>\n",
       "      <td>Global South</td>\n",
       "      <td>Asia</td>\n",
       "    </tr>\n",
       "    <tr>\n",
       "      <th>1</th>\n",
       "      <td>Åland Islands</td>\n",
       "      <td>AX</td>\n",
       "      <td>Global North</td>\n",
       "      <td>Europe</td>\n",
       "    </tr>\n",
       "    <tr>\n",
       "      <th>2</th>\n",
       "      <td>Albania</td>\n",
       "      <td>AL</td>\n",
       "      <td>Global North</td>\n",
       "      <td>Europe</td>\n",
       "    </tr>\n",
       "    <tr>\n",
       "      <th>3</th>\n",
       "      <td>Algeria</td>\n",
       "      <td>DZ</td>\n",
       "      <td>Global South</td>\n",
       "      <td>Africa</td>\n",
       "    </tr>\n",
       "    <tr>\n",
       "      <th>4</th>\n",
       "      <td>American Samoa</td>\n",
       "      <td>AS</td>\n",
       "      <td>Global South</td>\n",
       "      <td>Oceania</td>\n",
       "    </tr>\n",
       "    <tr>\n",
       "      <th>...</th>\n",
       "      <td>...</td>\n",
       "      <td>...</td>\n",
       "      <td>...</td>\n",
       "      <td>...</td>\n",
       "    </tr>\n",
       "    <tr>\n",
       "      <th>246</th>\n",
       "      <td>Western Sahara</td>\n",
       "      <td>EH</td>\n",
       "      <td>Global South</td>\n",
       "      <td>Africa</td>\n",
       "    </tr>\n",
       "    <tr>\n",
       "      <th>247</th>\n",
       "      <td>Yemen</td>\n",
       "      <td>YE</td>\n",
       "      <td>Global South</td>\n",
       "      <td>Asia</td>\n",
       "    </tr>\n",
       "    <tr>\n",
       "      <th>248</th>\n",
       "      <td>Zambia</td>\n",
       "      <td>ZM</td>\n",
       "      <td>Global South</td>\n",
       "      <td>Africa</td>\n",
       "    </tr>\n",
       "    <tr>\n",
       "      <th>249</th>\n",
       "      <td>Zimbabwe</td>\n",
       "      <td>ZW</td>\n",
       "      <td>Global South</td>\n",
       "      <td>Africa</td>\n",
       "    </tr>\n",
       "    <tr>\n",
       "      <th>250</th>\n",
       "      <td>unknown</td>\n",
       "      <td>--</td>\n",
       "      <td>unknown</td>\n",
       "      <td>unknown</td>\n",
       "    </tr>\n",
       "  </tbody>\n",
       "</table>\n",
       "<p>251 rows × 4 columns</p>\n",
       "</div>"
      ],
      "text/plain": [
       "               name iso_code economic_region maxmind_continent\n",
       "0       Afghanistan       AF    Global South              Asia\n",
       "1     Åland Islands       AX    Global North            Europe\n",
       "2           Albania       AL    Global North            Europe\n",
       "3           Algeria       DZ    Global South            Africa\n",
       "4    American Samoa       AS    Global South           Oceania\n",
       "..              ...      ...             ...               ...\n",
       "246  Western Sahara       EH    Global South            Africa\n",
       "247           Yemen       YE    Global South              Asia\n",
       "248          Zambia       ZM    Global South            Africa\n",
       "249        Zimbabwe       ZW    Global South            Africa\n",
       "250         unknown       --         unknown           unknown\n",
       "\n",
       "[251 rows x 4 columns]"
      ]
     },
     "execution_count": 11,
     "metadata": {},
     "output_type": "execute_result"
    }
   ],
   "source": [
    "countries = wmf.hive.run(f\"\"\"\n",
    "SELECT *\n",
    "FROM canonical_data.countries\n",
    "\"\"\")\n",
    "\n",
    "countries"
   ]
  },
  {
   "cell_type": "markdown",
   "metadata": {},
   "source": [
    "`wmf.hive.load_csv` allows you to load data in CSV (or TSV) format into the Data Lake."
   ]
  },
  {
   "cell_type": "code",
   "execution_count": 15,
   "metadata": {},
   "outputs": [
    {
     "data": {
      "text/plain": [
       "\u001b[0;31mSignature:\u001b[0m\n",
       "\u001b[0mwmf\u001b[0m\u001b[0;34m.\u001b[0m\u001b[0mhive\u001b[0m\u001b[0;34m.\u001b[0m\u001b[0mload_csv\u001b[0m\u001b[0;34m(\u001b[0m\u001b[0;34m\u001b[0m\n",
       "\u001b[0;34m\u001b[0m    \u001b[0mpath\u001b[0m\u001b[0;34m,\u001b[0m\u001b[0;34m\u001b[0m\n",
       "\u001b[0;34m\u001b[0m    \u001b[0mfield_spec\u001b[0m\u001b[0;34m,\u001b[0m\u001b[0;34m\u001b[0m\n",
       "\u001b[0;34m\u001b[0m    \u001b[0mdb_name\u001b[0m\u001b[0;34m,\u001b[0m\u001b[0;34m\u001b[0m\n",
       "\u001b[0;34m\u001b[0m    \u001b[0mtable_name\u001b[0m\u001b[0;34m,\u001b[0m\u001b[0;34m\u001b[0m\n",
       "\u001b[0;34m\u001b[0m    \u001b[0mcreate_db\u001b[0m\u001b[0;34m=\u001b[0m\u001b[0;32mFalse\u001b[0m\u001b[0;34m,\u001b[0m\u001b[0;34m\u001b[0m\n",
       "\u001b[0;34m\u001b[0m    \u001b[0msep\u001b[0m\u001b[0;34m=\u001b[0m\u001b[0;34m','\u001b[0m\u001b[0;34m,\u001b[0m\u001b[0;34m\u001b[0m\n",
       "\u001b[0;34m\u001b[0m    \u001b[0mheaders\u001b[0m\u001b[0;34m=\u001b[0m\u001b[0;32mTrue\u001b[0m\u001b[0;34m,\u001b[0m\u001b[0;34m\u001b[0m\n",
       "\u001b[0;34m\u001b[0m\u001b[0;34m)\u001b[0m\u001b[0;34m\u001b[0m\u001b[0;34m\u001b[0m\u001b[0m\n",
       "\u001b[0;31mDocstring:\u001b[0m\n",
       "Upload a CSV (or other delimiter-separated value file) to Data Lake's HDFS,\n",
       "for use with Hive and other utilities.\n",
       "\n",
       "`field_spec` specifies the field names and their formats, for the\n",
       "`CREATE TABLE` statement; for example, `name string, age int, graduated\n",
       "bool`.\n",
       "\n",
       "To prevent errors caused by typos, the function will not try to create the\n",
       "database first unless `create_db=True` is passed.\n",
       "\n",
       "`headers` gives whether the file has a header row; if it does, the\n",
       "function strips it before uploading, because Hive treats all rows as\n",
       "data rows.\n",
       "\u001b[0;31mFile:\u001b[0m      ~/wmfdata-python/wmfdata/hive.py\n",
       "\u001b[0;31mType:\u001b[0m      function\n"
      ]
     },
     "metadata": {},
     "output_type": "display_data"
    }
   ],
   "source": [
    "wmf.hive.load_csv?"
   ]
  },
  {
   "cell_type": "markdown",
   "metadata": {},
   "source": [
    "For example, we can use it to load the `users` dataframe we extracted from MariaDB into the Data Lake."
   ]
  },
  {
   "cell_type": "code",
   "execution_count": 43,
   "metadata": {},
   "outputs": [
    {
     "data": {
      "text/html": [
       "<div>\n",
       "<style scoped>\n",
       "    .dataframe tbody tr th:only-of-type {\n",
       "        vertical-align: middle;\n",
       "    }\n",
       "\n",
       "    .dataframe tbody tr th {\n",
       "        vertical-align: top;\n",
       "    }\n",
       "\n",
       "    .dataframe thead th {\n",
       "        text-align: right;\n",
       "    }\n",
       "</style>\n",
       "<table border=\"1\" class=\"dataframe\">\n",
       "  <thead>\n",
       "    <tr style=\"text-align: right;\">\n",
       "      <th></th>\n",
       "      <th>wiki</th>\n",
       "      <th>user_name</th>\n",
       "      <th>user_registration</th>\n",
       "    </tr>\n",
       "    <tr>\n",
       "      <th>user_id</th>\n",
       "      <th></th>\n",
       "      <th></th>\n",
       "      <th></th>\n",
       "    </tr>\n",
       "  </thead>\n",
       "  <tbody>\n",
       "    <tr>\n",
       "      <th>13076609</th>\n",
       "      <td>enwiki</td>\n",
       "      <td>Neil Shah-Quinn</td>\n",
       "      <td>2010-09-15 02:10:55</td>\n",
       "    </tr>\n",
       "    <tr>\n",
       "      <th>24753008</th>\n",
       "      <td>enwiki</td>\n",
       "      <td>Neil Shah-Quinn (WMF)</td>\n",
       "      <td>2015-04-13 15:45:38</td>\n",
       "    </tr>\n",
       "    <tr>\n",
       "      <th>1726054</th>\n",
       "      <td>eswiki</td>\n",
       "      <td>Neil Shah-Quinn</td>\n",
       "      <td>2011-02-04 23:06:08</td>\n",
       "    </tr>\n",
       "    <tr>\n",
       "      <th>3643219</th>\n",
       "      <td>eswiki</td>\n",
       "      <td>Neil Shah-Quinn (WMF)</td>\n",
       "      <td>2015-04-16 17:21:43</td>\n",
       "    </tr>\n",
       "    <tr>\n",
       "      <th>1533207</th>\n",
       "      <td>frwiki</td>\n",
       "      <td>Neil Shah-Quinn</td>\n",
       "      <td>2013-04-07 19:35:02</td>\n",
       "    </tr>\n",
       "    <tr>\n",
       "      <th>2194938</th>\n",
       "      <td>frwiki</td>\n",
       "      <td>Neil Shah-Quinn (WMF)</td>\n",
       "      <td>2015-04-20 17:43:18</td>\n",
       "    </tr>\n",
       "    <tr>\n",
       "      <th>311761</th>\n",
       "      <td>arwiki</td>\n",
       "      <td>Neil Shah-Quinn</td>\n",
       "      <td>2010-09-20 16:00:11</td>\n",
       "    </tr>\n",
       "    <tr>\n",
       "      <th>981709</th>\n",
       "      <td>arwiki</td>\n",
       "      <td>Neil Shah-Quinn (WMF)</td>\n",
       "      <td>2015-04-17 22:09:46</td>\n",
       "    </tr>\n",
       "    <tr>\n",
       "      <th>701248</th>\n",
       "      <td>jawiki</td>\n",
       "      <td>Neil Shah-Quinn</td>\n",
       "      <td>2013-01-24 02:55:15</td>\n",
       "    </tr>\n",
       "    <tr>\n",
       "      <th>983069</th>\n",
       "      <td>jawiki</td>\n",
       "      <td>Neil Shah-Quinn (WMF)</td>\n",
       "      <td>2015-06-03 15:06:39</td>\n",
       "    </tr>\n",
       "  </tbody>\n",
       "</table>\n",
       "</div>"
      ],
      "text/plain": [
       "            wiki              user_name   user_registration\n",
       "user_id                                                    \n",
       "13076609  enwiki        Neil Shah-Quinn 2010-09-15 02:10:55\n",
       "24753008  enwiki  Neil Shah-Quinn (WMF) 2015-04-13 15:45:38\n",
       "1726054   eswiki        Neil Shah-Quinn 2011-02-04 23:06:08\n",
       "3643219   eswiki  Neil Shah-Quinn (WMF) 2015-04-16 17:21:43\n",
       "1533207   frwiki        Neil Shah-Quinn 2013-04-07 19:35:02\n",
       "2194938   frwiki  Neil Shah-Quinn (WMF) 2015-04-20 17:43:18\n",
       "311761    arwiki        Neil Shah-Quinn 2010-09-20 16:00:11\n",
       "981709    arwiki  Neil Shah-Quinn (WMF) 2015-04-17 22:09:46\n",
       "701248    jawiki        Neil Shah-Quinn 2013-01-24 02:55:15\n",
       "983069    jawiki  Neil Shah-Quinn (WMF) 2015-06-03 15:06:39"
      ]
     },
     "execution_count": 43,
     "metadata": {},
     "output_type": "execute_result"
    }
   ],
   "source": [
    "users"
   ]
  },
  {
   "cell_type": "markdown",
   "metadata": {},
   "source": [
    "First, we save the dataframe to a CSV file."
   ]
  },
  {
   "cell_type": "code",
   "execution_count": 42,
   "metadata": {},
   "outputs": [],
   "source": [
    "users.to_csv(\"./users.csv\")"
   ]
  },
  {
   "cell_type": "markdown",
   "metadata": {},
   "source": [
    "Then we use `wmf.hive.load_csv`."
   ]
  },
  {
   "cell_type": "code",
   "execution_count": 45,
   "metadata": {},
   "outputs": [],
   "source": [
    "wmf.hive.load_csv(\n",
    "    \"./users.csv\",\n",
    "    \"user_id INT, wiki STRING, user_name STRING, user_registration TIMESTAMP\",\n",
    "    \"default\",\n",
    "    \"wmfdata_docs_user\"\n",
    ")"
   ]
  },
  {
   "cell_type": "markdown",
   "metadata": {},
   "source": [
    "And now the data is available in the Data Lake, so we can access it using Hive, Presto, or Spark."
   ]
  },
  {
   "cell_type": "code",
   "execution_count": 46,
   "metadata": {},
   "outputs": [
    {
     "data": {
      "text/html": [
       "<div>\n",
       "<style scoped>\n",
       "    .dataframe tbody tr th:only-of-type {\n",
       "        vertical-align: middle;\n",
       "    }\n",
       "\n",
       "    .dataframe tbody tr th {\n",
       "        vertical-align: top;\n",
       "    }\n",
       "\n",
       "    .dataframe thead th {\n",
       "        text-align: right;\n",
       "    }\n",
       "</style>\n",
       "<table border=\"1\" class=\"dataframe\">\n",
       "  <thead>\n",
       "    <tr style=\"text-align: right;\">\n",
       "      <th></th>\n",
       "      <th>user_id</th>\n",
       "      <th>wiki</th>\n",
       "      <th>user_name</th>\n",
       "      <th>user_registration</th>\n",
       "    </tr>\n",
       "  </thead>\n",
       "  <tbody>\n",
       "    <tr>\n",
       "      <th>0</th>\n",
       "      <td>13076609</td>\n",
       "      <td>enwiki</td>\n",
       "      <td>Neil Shah-Quinn</td>\n",
       "      <td>2010-09-15 02:10:55</td>\n",
       "    </tr>\n",
       "    <tr>\n",
       "      <th>1</th>\n",
       "      <td>24753008</td>\n",
       "      <td>enwiki</td>\n",
       "      <td>Neil Shah-Quinn (WMF)</td>\n",
       "      <td>2015-04-13 15:45:38</td>\n",
       "    </tr>\n",
       "    <tr>\n",
       "      <th>2</th>\n",
       "      <td>1726054</td>\n",
       "      <td>eswiki</td>\n",
       "      <td>Neil Shah-Quinn</td>\n",
       "      <td>2011-02-04 23:06:08</td>\n",
       "    </tr>\n",
       "    <tr>\n",
       "      <th>3</th>\n",
       "      <td>3643219</td>\n",
       "      <td>eswiki</td>\n",
       "      <td>Neil Shah-Quinn (WMF)</td>\n",
       "      <td>2015-04-16 17:21:43</td>\n",
       "    </tr>\n",
       "    <tr>\n",
       "      <th>4</th>\n",
       "      <td>1533207</td>\n",
       "      <td>frwiki</td>\n",
       "      <td>Neil Shah-Quinn</td>\n",
       "      <td>2013-04-07 19:35:02</td>\n",
       "    </tr>\n",
       "    <tr>\n",
       "      <th>5</th>\n",
       "      <td>2194938</td>\n",
       "      <td>frwiki</td>\n",
       "      <td>Neil Shah-Quinn (WMF)</td>\n",
       "      <td>2015-04-20 17:43:18</td>\n",
       "    </tr>\n",
       "    <tr>\n",
       "      <th>6</th>\n",
       "      <td>311761</td>\n",
       "      <td>arwiki</td>\n",
       "      <td>Neil Shah-Quinn</td>\n",
       "      <td>2010-09-20 16:00:11</td>\n",
       "    </tr>\n",
       "    <tr>\n",
       "      <th>7</th>\n",
       "      <td>981709</td>\n",
       "      <td>arwiki</td>\n",
       "      <td>Neil Shah-Quinn (WMF)</td>\n",
       "      <td>2015-04-17 22:09:46</td>\n",
       "    </tr>\n",
       "    <tr>\n",
       "      <th>8</th>\n",
       "      <td>701248</td>\n",
       "      <td>jawiki</td>\n",
       "      <td>Neil Shah-Quinn</td>\n",
       "      <td>2013-01-24 02:55:15</td>\n",
       "    </tr>\n",
       "    <tr>\n",
       "      <th>9</th>\n",
       "      <td>983069</td>\n",
       "      <td>jawiki</td>\n",
       "      <td>Neil Shah-Quinn (WMF)</td>\n",
       "      <td>2015-06-03 15:06:39</td>\n",
       "    </tr>\n",
       "  </tbody>\n",
       "</table>\n",
       "</div>"
      ],
      "text/plain": [
       "    user_id    wiki              user_name   user_registration\n",
       "0  13076609  enwiki        Neil Shah-Quinn 2010-09-15 02:10:55\n",
       "1  24753008  enwiki  Neil Shah-Quinn (WMF) 2015-04-13 15:45:38\n",
       "2   1726054  eswiki        Neil Shah-Quinn 2011-02-04 23:06:08\n",
       "3   3643219  eswiki  Neil Shah-Quinn (WMF) 2015-04-16 17:21:43\n",
       "4   1533207  frwiki        Neil Shah-Quinn 2013-04-07 19:35:02\n",
       "5   2194938  frwiki  Neil Shah-Quinn (WMF) 2015-04-20 17:43:18\n",
       "6    311761  arwiki        Neil Shah-Quinn 2010-09-20 16:00:11\n",
       "7    981709  arwiki  Neil Shah-Quinn (WMF) 2015-04-17 22:09:46\n",
       "8    701248  jawiki        Neil Shah-Quinn 2013-01-24 02:55:15\n",
       "9    983069  jawiki  Neil Shah-Quinn (WMF) 2015-06-03 15:06:39"
      ]
     },
     "execution_count": 46,
     "metadata": {},
     "output_type": "execute_result"
    }
   ],
   "source": [
    "wmf.presto.run(\"\"\"\n",
    "SELECT *\n",
    "FROM default.wmfdata_docs_user\n",
    "\"\"\")"
   ]
  },
  {
   "cell_type": "markdown",
   "metadata": {},
   "source": [
    "Now let's just clean up a little."
   ]
  },
  {
   "cell_type": "code",
   "execution_count": 47,
   "metadata": {},
   "outputs": [],
   "source": [
    "import os\n",
    "\n",
    "os.remove(\"./users.csv\")\n",
    "\n",
    "wmf.hive.run(\"\"\"\n",
    "DROP TABLE default.wmfdata_docs_user\n",
    "\"\"\")"
   ]
  },
  {
   "cell_type": "markdown",
   "metadata": {},
   "source": [
    "## Utils\n",
    "\n",
    "Finally, `wmf.utils` has a miscellaneous collection of useful functions.\n",
    "\n",
    "### `pd_display_all`\n",
    "\n",
    "`wmf.utils.pd_display_all` disables the limits on how much of a Pandas data frame is displayed in the notebook. This is useful when you have a wide or long data frame that you want to manually inspect. Obviously, be careful; this won't work well if you have thousands of rows or columns."
   ]
  },
  {
   "cell_type": "markdown",
   "metadata": {},
   "source": [
    "Normally, Pandas does not show more than 50 characters from a single column."
   ]
  },
  {
   "cell_type": "code",
   "execution_count": 25,
   "metadata": {},
   "outputs": [
    {
     "data": {
      "text/html": [
       "<div>\n",
       "<style scoped>\n",
       "    .dataframe tbody tr th:only-of-type {\n",
       "        vertical-align: middle;\n",
       "    }\n",
       "\n",
       "    .dataframe tbody tr th {\n",
       "        vertical-align: top;\n",
       "    }\n",
       "\n",
       "    .dataframe thead th {\n",
       "        text-align: right;\n",
       "    }\n",
       "</style>\n",
       "<table border=\"1\" class=\"dataframe\">\n",
       "  <thead>\n",
       "    <tr style=\"text-align: right;\">\n",
       "      <th></th>\n",
       "      <th>Explain</th>\n",
       "    </tr>\n",
       "  </thead>\n",
       "  <tbody>\n",
       "    <tr>\n",
       "      <th>0</th>\n",
       "      <td>STAGE DEPENDENCIES:</td>\n",
       "    </tr>\n",
       "    <tr>\n",
       "      <th>1</th>\n",
       "      <td>Stage-0 is a root stage</td>\n",
       "    </tr>\n",
       "    <tr>\n",
       "      <th>2</th>\n",
       "      <td></td>\n",
       "    </tr>\n",
       "    <tr>\n",
       "      <th>3</th>\n",
       "      <td>STAGE PLANS:</td>\n",
       "    </tr>\n",
       "    <tr>\n",
       "      <th>4</th>\n",
       "      <td>Stage: Stage-0</td>\n",
       "    </tr>\n",
       "    <tr>\n",
       "      <th>5</th>\n",
       "      <td>Fetch Operator</td>\n",
       "    </tr>\n",
       "    <tr>\n",
       "      <th>6</th>\n",
       "      <td>limit: -1</td>\n",
       "    </tr>\n",
       "    <tr>\n",
       "      <th>7</th>\n",
       "      <td>Processor Tree:</td>\n",
       "    </tr>\n",
       "    <tr>\n",
       "      <th>8</th>\n",
       "      <td>TableScan</td>\n",
       "    </tr>\n",
       "    <tr>\n",
       "      <th>9</th>\n",
       "      <td>alias: countries</td>\n",
       "    </tr>\n",
       "    <tr>\n",
       "      <th>10</th>\n",
       "      <td>Statistics: Num rows: 22 Data size: ...</td>\n",
       "    </tr>\n",
       "    <tr>\n",
       "      <th>11</th>\n",
       "      <td>Select Operator</td>\n",
       "    </tr>\n",
       "    <tr>\n",
       "      <th>12</th>\n",
       "      <td>expressions: name (type: string), ...</td>\n",
       "    </tr>\n",
       "    <tr>\n",
       "      <th>13</th>\n",
       "      <td>outputColumnNames: _col0, _col1, _...</td>\n",
       "    </tr>\n",
       "    <tr>\n",
       "      <th>14</th>\n",
       "      <td>Statistics: Num rows: 22 Data size...</td>\n",
       "    </tr>\n",
       "    <tr>\n",
       "      <th>15</th>\n",
       "      <td>ListSink</td>\n",
       "    </tr>\n",
       "    <tr>\n",
       "      <th>16</th>\n",
       "      <td></td>\n",
       "    </tr>\n",
       "  </tbody>\n",
       "</table>\n",
       "</div>"
      ],
      "text/plain": [
       "                                              Explain\n",
       "0                                 STAGE DEPENDENCIES:\n",
       "1                             Stage-0 is a root stage\n",
       "2                                                    \n",
       "3                                        STAGE PLANS:\n",
       "4                                      Stage: Stage-0\n",
       "5                                      Fetch Operator\n",
       "6                                           limit: -1\n",
       "7                                     Processor Tree:\n",
       "8                                           TableScan\n",
       "9                                    alias: countries\n",
       "10            Statistics: Num rows: 22 Data size: ...\n",
       "11                                    Select Operator\n",
       "12              expressions: name (type: string), ...\n",
       "13              outputColumnNames: _col0, _col1, _...\n",
       "14              Statistics: Num rows: 22 Data size...\n",
       "15                                           ListSink\n",
       "16                                                   "
      ]
     },
     "execution_count": 25,
     "metadata": {},
     "output_type": "execute_result"
    }
   ],
   "source": [
    "hive_plan = wmf.hive.run(\"\"\"\n",
    "EXPLAIN\n",
    "SELECT * \n",
    "FROM canonical_data.countries\n",
    "\"\"\")\n",
    "\n",
    "hive_plan"
   ]
  },
  {
   "cell_type": "markdown",
   "metadata": {},
   "source": [
    "After using `wmf.utils.pd_display_all`, the full width of the column is displayed (using horizontal scrolling if necessary). "
   ]
  },
  {
   "cell_type": "code",
   "execution_count": 18,
   "metadata": {
    "tags": []
   },
   "outputs": [
    {
     "data": {
      "text/html": [
       "<div>\n",
       "<style scoped>\n",
       "    .dataframe tbody tr th:only-of-type {\n",
       "        vertical-align: middle;\n",
       "    }\n",
       "\n",
       "    .dataframe tbody tr th {\n",
       "        vertical-align: top;\n",
       "    }\n",
       "\n",
       "    .dataframe thead th {\n",
       "        text-align: right;\n",
       "    }\n",
       "</style>\n",
       "<table border=\"1\" class=\"dataframe\">\n",
       "  <thead>\n",
       "    <tr style=\"text-align: right;\">\n",
       "      <th></th>\n",
       "      <th>Explain</th>\n",
       "    </tr>\n",
       "  </thead>\n",
       "  <tbody>\n",
       "    <tr>\n",
       "      <th>0</th>\n",
       "      <td>STAGE DEPENDENCIES:</td>\n",
       "    </tr>\n",
       "    <tr>\n",
       "      <th>1</th>\n",
       "      <td>Stage-0 is a root stage</td>\n",
       "    </tr>\n",
       "    <tr>\n",
       "      <th>2</th>\n",
       "      <td></td>\n",
       "    </tr>\n",
       "    <tr>\n",
       "      <th>3</th>\n",
       "      <td>STAGE PLANS:</td>\n",
       "    </tr>\n",
       "    <tr>\n",
       "      <th>4</th>\n",
       "      <td>Stage: Stage-0</td>\n",
       "    </tr>\n",
       "    <tr>\n",
       "      <th>5</th>\n",
       "      <td>Fetch Operator</td>\n",
       "    </tr>\n",
       "    <tr>\n",
       "      <th>6</th>\n",
       "      <td>limit: -1</td>\n",
       "    </tr>\n",
       "    <tr>\n",
       "      <th>7</th>\n",
       "      <td>Processor Tree:</td>\n",
       "    </tr>\n",
       "    <tr>\n",
       "      <th>8</th>\n",
       "      <td>TableScan</td>\n",
       "    </tr>\n",
       "    <tr>\n",
       "      <th>9</th>\n",
       "      <td>alias: countries</td>\n",
       "    </tr>\n",
       "    <tr>\n",
       "      <th>10</th>\n",
       "      <td>Statistics: Num rows: 22 Data size: 8856 Basic stats: COMPLETE Column stats: NONE</td>\n",
       "    </tr>\n",
       "    <tr>\n",
       "      <th>11</th>\n",
       "      <td>Select Operator</td>\n",
       "    </tr>\n",
       "    <tr>\n",
       "      <th>12</th>\n",
       "      <td>expressions: name (type: string), iso_code (type: string), economic_region (type: string), maxmind_continent (type: string)</td>\n",
       "    </tr>\n",
       "    <tr>\n",
       "      <th>13</th>\n",
       "      <td>outputColumnNames: _col0, _col1, _col2, _col3</td>\n",
       "    </tr>\n",
       "    <tr>\n",
       "      <th>14</th>\n",
       "      <td>Statistics: Num rows: 22 Data size: 8856 Basic stats: COMPLETE Column stats: NONE</td>\n",
       "    </tr>\n",
       "    <tr>\n",
       "      <th>15</th>\n",
       "      <td>ListSink</td>\n",
       "    </tr>\n",
       "    <tr>\n",
       "      <th>16</th>\n",
       "      <td></td>\n",
       "    </tr>\n",
       "  </tbody>\n",
       "</table>\n",
       "</div>"
      ],
      "text/plain": [
       "                                                                                                                                    Explain\n",
       "0   STAGE DEPENDENCIES:                                                                                                                    \n",
       "1     Stage-0 is a root stage                                                                                                              \n",
       "2                                                                                                                                          \n",
       "3   STAGE PLANS:                                                                                                                           \n",
       "4     Stage: Stage-0                                                                                                                       \n",
       "5       Fetch Operator                                                                                                                     \n",
       "6         limit: -1                                                                                                                        \n",
       "7         Processor Tree:                                                                                                                  \n",
       "8           TableScan                                                                                                                      \n",
       "9             alias: countries                                                                                                             \n",
       "10            Statistics: Num rows: 22 Data size: 8856 Basic stats: COMPLETE Column stats: NONE                                            \n",
       "11            Select Operator                                                                                                              \n",
       "12              expressions: name (type: string), iso_code (type: string), economic_region (type: string), maxmind_continent (type: string)\n",
       "13              outputColumnNames: _col0, _col1, _col2, _col3                                                                              \n",
       "14              Statistics: Num rows: 22 Data size: 8856 Basic stats: COMPLETE Column stats: NONE                                          \n",
       "15              ListSink                                                                                                                   \n",
       "16                                                                                                                                         "
      ]
     },
     "metadata": {},
     "output_type": "display_data"
    }
   ],
   "source": [
    "hive_plan.pipe(wmf.utils.pd_display_all)"
   ]
  },
  {
   "cell_type": "markdown",
   "metadata": {},
   "source": [
    "### `insert_code_toggle`\n",
    "\n",
    "`wmf.utils.insert_code_toggle` inserts some code into the notebook that, in an exported HTML version, will hide the code but insert a button that turn it back on. This is useful for sharing a research notebook with people who mostly just want to see the results rather than what code was used to get them."
   ]
  },
  {
   "cell_type": "code",
   "execution_count": 22,
   "metadata": {},
   "outputs": [
    {
     "data": {
      "text/plain": [
       "\u001b[0;31mSignature:\u001b[0m \u001b[0mwmf\u001b[0m\u001b[0;34m.\u001b[0m\u001b[0mutils\u001b[0m\u001b[0;34m.\u001b[0m\u001b[0minsert_code_toggle\u001b[0m\u001b[0;34m(\u001b[0m\u001b[0;34m)\u001b[0m\u001b[0;34m\u001b[0m\u001b[0;34m\u001b[0m\u001b[0m\n",
       "\u001b[0;31mDocstring:\u001b[0m\n",
       "Outputs a button that will show or hide the code cells in exported HTML\n",
       "versions of the notebook.\n",
       "\u001b[0;31mFile:\u001b[0m      ~/wmfdata-python/wmfdata/utils.py\n",
       "\u001b[0;31mType:\u001b[0m      function\n"
      ]
     },
     "metadata": {},
     "output_type": "display_data"
    }
   ],
   "source": [
    "wmf.utils.insert_code_toggle?"
   ]
  },
  {
   "cell_type": "markdown",
   "metadata": {},
   "source": [
    "For an example, see https://analytics.wikimedia.org/published/notebooks/WMF-Language/key-metrics.html By default, you only see a selection of graphs. If you click the \"show code\" button, the code that generates them appears."
   ]
  },
  {
   "cell_type": "markdown",
   "metadata": {},
   "source": [
    "### `df_to_remarkup`"
   ]
  },
  {
   "cell_type": "markdown",
   "metadata": {},
   "source": [
    "`wmf.utils.df_to_remarkup` converts a Pandas dataframe to a string of [Remarkup](https://secure.phabricator.com/book/phabricator/article/remarkup/), Phabricator's markup language. \n",
    "\n",
    "(If you want to create a wikitext or MediaWiki table, use the [Tabulate package](https://github.com/astanin/python-tabulate).)"
   ]
  },
  {
   "cell_type": "code",
   "execution_count": 23,
   "metadata": {},
   "outputs": [
    {
     "data": {
      "text/plain": [
       "\u001b[0;31mSignature:\u001b[0m \u001b[0mwmf\u001b[0m\u001b[0;34m.\u001b[0m\u001b[0mutils\u001b[0m\u001b[0;34m.\u001b[0m\u001b[0mdf_to_remarkup\u001b[0m\u001b[0;34m(\u001b[0m\u001b[0mdf\u001b[0m\u001b[0;34m)\u001b[0m\u001b[0;34m\u001b[0m\u001b[0;34m\u001b[0m\u001b[0m\n",
       "\u001b[0;31mDocstring:\u001b[0m\n",
       "Prints a Pandas dataframe as a Remarkup table suitable for pasting into\n",
       "Phabricator.\n",
       "\n",
       "Best used via the `pipe`, as in `my_dataframe.pipe(df_to_remarkup)`.\n",
       "\u001b[0;31mFile:\u001b[0m      ~/wmfdata-python/wmfdata/utils.py\n",
       "\u001b[0;31mType:\u001b[0m      function\n"
      ]
     },
     "metadata": {},
     "output_type": "display_data"
    }
   ],
   "source": [
    "wmf.utils.df_to_remarkup?"
   ]
  },
  {
   "cell_type": "code",
   "execution_count": 37,
   "metadata": {},
   "outputs": [
    {
     "data": {
      "text/plain": [
       "['Neil Shah-Quinn',\n",
       " 'Neil Shah-Quinn (WMF)',\n",
       " 'Jimbo Wales',\n",
       " 'Katherine (WMF)',\n",
       " 'MIskander-WMF']"
      ]
     },
     "execution_count": 37,
     "metadata": {},
     "output_type": "execute_result"
    }
   ],
   "source": [
    "users"
   ]
  },
  {
   "cell_type": "code",
   "execution_count": 28,
   "metadata": {},
   "outputs": [
    {
     "name": "stdout",
     "output_type": "stream",
     "text": [
      "| user_id | wiki | user_name | user_registration | is_staff_account\n",
      "| ----- | ----- | ----- | ----- | ----- \n",
      "| 13076609 | enwiki | Neil Shah-Quinn | 2010-09-15 02:10:55 | 0\n",
      "| 24753008 | enwiki | Neil Shah-Quinn (WMF) | 2015-04-13 15:45:38 | 1\n",
      "| 1726054 | eswiki | Neil Shah-Quinn | 2011-02-04 23:06:08 | 0\n",
      "| 3643219 | eswiki | Neil Shah-Quinn (WMF) | 2015-04-16 17:21:43 | 1\n",
      "| 1533207 | frwiki | Neil Shah-Quinn | 2013-04-07 19:35:02 | 0\n",
      "| 2194938 | frwiki | Neil Shah-Quinn (WMF) | 2015-04-20 17:43:18 | 1\n",
      "| 311761 | arwiki | Neil Shah-Quinn | 2010-09-20 16:00:11 | 0\n",
      "| 981709 | arwiki | Neil Shah-Quinn (WMF) | 2015-04-17 22:09:46 | 1\n",
      "| 701248 | jawiki | Neil Shah-Quinn | 2013-01-24 02:55:15 | 0\n",
      "| 983069 | jawiki | Neil Shah-Quinn (WMF) | 2015-06-03 15:06:39 | 1\n",
      "\n"
     ]
    }
   ],
   "source": [
    "users.reset_index().pipe(wmf.utils.df_to_remarkup)"
   ]
  },
  {
   "cell_type": "markdown",
   "metadata": {},
   "source": [
    "### `get_dblist`"
   ]
  },
  {
   "cell_type": "markdown",
   "metadata": {},
   "source": [
    "`wmf.utils.get_dblist` fetches the contents of a Wikimedia database list (e.g. `wikipedia`, the list of all Wikipedia databases on the cluster)."
   ]
  },
  {
   "cell_type": "code",
   "execution_count": 25,
   "metadata": {},
   "outputs": [
    {
     "data": {
      "text/plain": [
       "\u001b[0;31mSignature:\u001b[0m\n",
       "\u001b[0mwmf\u001b[0m\u001b[0;34m.\u001b[0m\u001b[0mutils\u001b[0m\u001b[0;34m.\u001b[0m\u001b[0mget_dblist\u001b[0m\u001b[0;34m(\u001b[0m\u001b[0;34m\u001b[0m\n",
       "\u001b[0;34m\u001b[0m    \u001b[0mdblist_name\u001b[0m\u001b[0;34m,\u001b[0m\u001b[0;34m\u001b[0m\n",
       "\u001b[0;34m\u001b[0m    \u001b[0mdblist_path\u001b[0m\u001b[0;34m=\u001b[0m\u001b[0;34m'/srv/mediawiki-config/dblists'\u001b[0m\u001b[0;34m,\u001b[0m\u001b[0;34m\u001b[0m\n",
       "\u001b[0;34m\u001b[0m\u001b[0;34m)\u001b[0m\u001b[0;34m\u001b[0m\u001b[0;34m\u001b[0m\u001b[0m\n",
       "\u001b[0;31mDocstring:\u001b[0m\n",
       "Given the name of a dblist (e.g. \"wikipedia\", \"closed\", \"group0\"), return the wiki database names in that list.\n",
       "\n",
       "To see all the dblists, visit:\n",
       "https://github.com/wikimedia/operations-mediawiki-config/tree/master/dblists\n",
       "\u001b[0;31mFile:\u001b[0m      ~/wmfdata-python/wmfdata/utils.py\n",
       "\u001b[0;31mType:\u001b[0m      function\n"
      ]
     },
     "metadata": {},
     "output_type": "display_data"
    }
   ],
   "source": [
    "wmf.utils.get_dblist?"
   ]
  },
  {
   "cell_type": "markdown",
   "metadata": {},
   "source": [
    "This is particularly useful for passing to the `dbs` parameter of `mariadb.run`, so that you can run a query for all those databases."
   ]
  },
  {
   "cell_type": "code",
   "execution_count": 35,
   "metadata": {},
   "outputs": [
    {
     "data": {
      "text/html": [
       "<div>\n",
       "<style scoped>\n",
       "    .dataframe tbody tr th:only-of-type {\n",
       "        vertical-align: middle;\n",
       "    }\n",
       "\n",
       "    .dataframe tbody tr th {\n",
       "        vertical-align: top;\n",
       "    }\n",
       "\n",
       "    .dataframe thead th {\n",
       "        text-align: right;\n",
       "    }\n",
       "</style>\n",
       "<table border=\"1\" class=\"dataframe\">\n",
       "  <thead>\n",
       "    <tr style=\"text-align: right;\">\n",
       "      <th></th>\n",
       "      <th>wiki</th>\n",
       "      <th>pages</th>\n",
       "    </tr>\n",
       "  </thead>\n",
       "  <tbody>\n",
       "    <tr>\n",
       "      <th>0</th>\n",
       "      <td>arwikinews</td>\n",
       "      <td>57366</td>\n",
       "    </tr>\n",
       "    <tr>\n",
       "      <th>1</th>\n",
       "      <td>bgwikinews</td>\n",
       "      <td>4048</td>\n",
       "    </tr>\n",
       "    <tr>\n",
       "      <th>2</th>\n",
       "      <td>bswikinews</td>\n",
       "      <td>4972</td>\n",
       "    </tr>\n",
       "    <tr>\n",
       "      <th>3</th>\n",
       "      <td>cawikinews</td>\n",
       "      <td>14437</td>\n",
       "    </tr>\n",
       "    <tr>\n",
       "      <th>4</th>\n",
       "      <td>cswikinews</td>\n",
       "      <td>16124</td>\n",
       "    </tr>\n",
       "    <tr>\n",
       "      <th>5</th>\n",
       "      <td>dewikinews</td>\n",
       "      <td>61061</td>\n",
       "    </tr>\n",
       "    <tr>\n",
       "      <th>6</th>\n",
       "      <td>elwikinews</td>\n",
       "      <td>12726</td>\n",
       "    </tr>\n",
       "    <tr>\n",
       "      <th>7</th>\n",
       "      <td>enwikinews</td>\n",
       "      <td>2867153</td>\n",
       "    </tr>\n",
       "    <tr>\n",
       "      <th>8</th>\n",
       "      <td>eowikinews</td>\n",
       "      <td>7953</td>\n",
       "    </tr>\n",
       "    <tr>\n",
       "      <th>9</th>\n",
       "      <td>eswikinews</td>\n",
       "      <td>47533</td>\n",
       "    </tr>\n",
       "    <tr>\n",
       "      <th>10</th>\n",
       "      <td>fawikinews</td>\n",
       "      <td>19089</td>\n",
       "    </tr>\n",
       "    <tr>\n",
       "      <th>11</th>\n",
       "      <td>fiwikinews</td>\n",
       "      <td>5694</td>\n",
       "    </tr>\n",
       "    <tr>\n",
       "      <th>12</th>\n",
       "      <td>frwikinews</td>\n",
       "      <td>78708</td>\n",
       "    </tr>\n",
       "    <tr>\n",
       "      <th>13</th>\n",
       "      <td>hewikinews</td>\n",
       "      <td>4924</td>\n",
       "    </tr>\n",
       "    <tr>\n",
       "      <th>14</th>\n",
       "      <td>huwikinews</td>\n",
       "      <td>5222</td>\n",
       "    </tr>\n",
       "    <tr>\n",
       "      <th>15</th>\n",
       "      <td>itwikinews</td>\n",
       "      <td>41221</td>\n",
       "    </tr>\n",
       "    <tr>\n",
       "      <th>16</th>\n",
       "      <td>jawikinews</td>\n",
       "      <td>31449</td>\n",
       "    </tr>\n",
       "    <tr>\n",
       "      <th>17</th>\n",
       "      <td>kowikinews</td>\n",
       "      <td>3924</td>\n",
       "    </tr>\n",
       "    <tr>\n",
       "      <th>18</th>\n",
       "      <td>liwikinews</td>\n",
       "      <td>3613</td>\n",
       "    </tr>\n",
       "    <tr>\n",
       "      <th>19</th>\n",
       "      <td>nlwikinews</td>\n",
       "      <td>14091</td>\n",
       "    </tr>\n",
       "    <tr>\n",
       "      <th>20</th>\n",
       "      <td>nowikinews</td>\n",
       "      <td>4141</td>\n",
       "    </tr>\n",
       "    <tr>\n",
       "      <th>21</th>\n",
       "      <td>plwikinews</td>\n",
       "      <td>48503</td>\n",
       "    </tr>\n",
       "    <tr>\n",
       "      <th>22</th>\n",
       "      <td>ptwikinews</td>\n",
       "      <td>66147</td>\n",
       "    </tr>\n",
       "    <tr>\n",
       "      <th>23</th>\n",
       "      <td>rowikinews</td>\n",
       "      <td>7480</td>\n",
       "    </tr>\n",
       "    <tr>\n",
       "      <th>24</th>\n",
       "      <td>ruwikinews</td>\n",
       "      <td>13951096</td>\n",
       "    </tr>\n",
       "    <tr>\n",
       "      <th>25</th>\n",
       "      <td>sdwikinews</td>\n",
       "      <td>2096</td>\n",
       "    </tr>\n",
       "    <tr>\n",
       "      <th>26</th>\n",
       "      <td>sqwikinews</td>\n",
       "      <td>2344</td>\n",
       "    </tr>\n",
       "    <tr>\n",
       "      <th>27</th>\n",
       "      <td>srwikinews</td>\n",
       "      <td>80713</td>\n",
       "    </tr>\n",
       "    <tr>\n",
       "      <th>28</th>\n",
       "      <td>svwikinews</td>\n",
       "      <td>8633</td>\n",
       "    </tr>\n",
       "    <tr>\n",
       "      <th>29</th>\n",
       "      <td>tawikinews</td>\n",
       "      <td>17435</td>\n",
       "    </tr>\n",
       "    <tr>\n",
       "      <th>30</th>\n",
       "      <td>thwikinews</td>\n",
       "      <td>1563</td>\n",
       "    </tr>\n",
       "    <tr>\n",
       "      <th>31</th>\n",
       "      <td>trwikinews</td>\n",
       "      <td>10666</td>\n",
       "    </tr>\n",
       "    <tr>\n",
       "      <th>32</th>\n",
       "      <td>ukwikinews</td>\n",
       "      <td>7184</td>\n",
       "    </tr>\n",
       "    <tr>\n",
       "      <th>33</th>\n",
       "      <td>zhwikinews</td>\n",
       "      <td>40547</td>\n",
       "    </tr>\n",
       "  </tbody>\n",
       "</table>\n",
       "</div>"
      ],
      "text/plain": [
       "          wiki     pages\n",
       "0   arwikinews     57366\n",
       "1   bgwikinews      4048\n",
       "2   bswikinews      4972\n",
       "3   cawikinews     14437\n",
       "4   cswikinews     16124\n",
       "5   dewikinews     61061\n",
       "6   elwikinews     12726\n",
       "7   enwikinews   2867153\n",
       "8   eowikinews      7953\n",
       "9   eswikinews     47533\n",
       "10  fawikinews     19089\n",
       "11  fiwikinews      5694\n",
       "12  frwikinews     78708\n",
       "13  hewikinews      4924\n",
       "14  huwikinews      5222\n",
       "15  itwikinews     41221\n",
       "16  jawikinews     31449\n",
       "17  kowikinews      3924\n",
       "18  liwikinews      3613\n",
       "19  nlwikinews     14091\n",
       "20  nowikinews      4141\n",
       "21  plwikinews     48503\n",
       "22  ptwikinews     66147\n",
       "23  rowikinews      7480\n",
       "24  ruwikinews  13951096\n",
       "25  sdwikinews      2096\n",
       "26  sqwikinews      2344\n",
       "27  srwikinews     80713\n",
       "28  svwikinews      8633\n",
       "29  tawikinews     17435\n",
       "30  thwikinews      1563\n",
       "31  trwikinews     10666\n",
       "32  ukwikinews      7184\n",
       "33  zhwikinews     40547"
      ]
     },
     "execution_count": 35,
     "metadata": {},
     "output_type": "execute_result"
    }
   ],
   "source": [
    "wikinews = wmf.utils.get_dblist(\"wikinews\")\n",
    "\n",
    "wmf.mariadb.run(\n",
    "    \"\"\"\n",
    "    SELECT\n",
    "        DATABASE() AS wiki,\n",
    "        COUNT(*) AS pages\n",
    "    FROM page\n",
    "    \"\"\",\n",
    "    dbs=wikinews\n",
    ")"
   ]
  },
  {
   "cell_type": "markdown",
   "metadata": {},
   "source": [
    "### `sql_tuple`"
   ]
  },
  {
   "cell_type": "markdown",
   "metadata": {},
   "source": [
    "Finally, `wmf.utils.sql_tuple` can turn a list of items into a \"tuple\" that you can use in an SQL IN clause."
   ]
  },
  {
   "cell_type": "code",
   "execution_count": 27,
   "metadata": {},
   "outputs": [
    {
     "data": {
      "text/plain": [
       "\u001b[0;31mSignature:\u001b[0m \u001b[0mwmf\u001b[0m\u001b[0;34m.\u001b[0m\u001b[0mutils\u001b[0m\u001b[0;34m.\u001b[0m\u001b[0msql_tuple\u001b[0m\u001b[0;34m(\u001b[0m\u001b[0mi\u001b[0m\u001b[0;34m)\u001b[0m\u001b[0;34m\u001b[0m\u001b[0;34m\u001b[0m\u001b[0m\n",
       "\u001b[0;31mDocstring:\u001b[0m\n",
       "Given a Python iterable, returns a string representation that can be used in an SQL IN\n",
       "clause.\n",
       "\n",
       "For example:\n",
       "> sql_tuple([\"a\", \"b\", \"c\"])\n",
       "\"('a', 'b', 'c')\"\n",
       "\n",
       "WARNING: In some cases, this function produces incorrect results with strings that contain\n",
       "single quotes or backslashes. If you encounter this situation, consult the code comments or ask\n",
       "the maintainers for help.\n",
       "\u001b[0;31mFile:\u001b[0m      ~/wmfdata-python/wmfdata/utils.py\n",
       "\u001b[0;31mType:\u001b[0m      function\n"
      ]
     },
     "metadata": {},
     "output_type": "display_data"
    }
   ],
   "source": [
    "wmf.utils.sql_tuple?"
   ]
  },
  {
   "cell_type": "markdown",
   "metadata": {},
   "source": [
    "For example, this is useful when you have a long list of users and you want to retrieve information about them from MariaDB."
   ]
  },
  {
   "cell_type": "code",
   "execution_count": 48,
   "metadata": {},
   "outputs": [
    {
     "data": {
      "text/html": [
       "<div>\n",
       "<style scoped>\n",
       "    .dataframe tbody tr th:only-of-type {\n",
       "        vertical-align: middle;\n",
       "    }\n",
       "\n",
       "    .dataframe tbody tr th {\n",
       "        vertical-align: top;\n",
       "    }\n",
       "\n",
       "    .dataframe thead th {\n",
       "        text-align: right;\n",
       "    }\n",
       "</style>\n",
       "<table border=\"1\" class=\"dataframe\">\n",
       "  <thead>\n",
       "    <tr style=\"text-align: right;\">\n",
       "      <th></th>\n",
       "      <th>user_name</th>\n",
       "      <th>user_id</th>\n",
       "      <th>user_registration</th>\n",
       "    </tr>\n",
       "  </thead>\n",
       "  <tbody>\n",
       "    <tr>\n",
       "      <th>0</th>\n",
       "      <td>Jimbo Wales</td>\n",
       "      <td>22</td>\n",
       "      <td>NaT</td>\n",
       "    </tr>\n",
       "    <tr>\n",
       "      <th>1</th>\n",
       "      <td>Katherine (WMF)</td>\n",
       "      <td>5108188</td>\n",
       "      <td>2014-04-14 18:30:18</td>\n",
       "    </tr>\n",
       "    <tr>\n",
       "      <th>2</th>\n",
       "      <td>MIskander-WMF</td>\n",
       "      <td>33117416</td>\n",
       "      <td>2021-09-14 15:18:22</td>\n",
       "    </tr>\n",
       "    <tr>\n",
       "      <th>3</th>\n",
       "      <td>Neil Shah-Quinn</td>\n",
       "      <td>596810</td>\n",
       "      <td>2010-12-20 02:45:28</td>\n",
       "    </tr>\n",
       "    <tr>\n",
       "      <th>4</th>\n",
       "      <td>Neil Shah-Quinn (WMF)</td>\n",
       "      <td>7870607</td>\n",
       "      <td>2015-04-15 20:14:12</td>\n",
       "    </tr>\n",
       "  </tbody>\n",
       "</table>\n",
       "</div>"
      ],
      "text/plain": [
       "               user_name   user_id   user_registration\n",
       "0            Jimbo Wales        22                 NaT\n",
       "1        Katherine (WMF)   5108188 2014-04-14 18:30:18\n",
       "2          MIskander-WMF  33117416 2021-09-14 15:18:22\n",
       "3        Neil Shah-Quinn    596810 2010-12-20 02:45:28\n",
       "4  Neil Shah-Quinn (WMF)   7870607 2015-04-15 20:14:12"
      ]
     },
     "execution_count": 48,
     "metadata": {},
     "output_type": "execute_result"
    }
   ],
   "source": [
    "user_names = [\n",
    "    \"Neil Shah-Quinn\",\n",
    "    \"Neil Shah-Quinn (WMF)\",\n",
    "    \"Jimbo Wales\",\n",
    "    \"Katherine (WMF)\",\n",
    "    \"MIskander-WMF\"\n",
    "]\n",
    "\n",
    "user_names = wmf.utils.sql_tuple(user_names)\n",
    "\n",
    "wmf.mariadb.run(\n",
    "    f\"\"\"\n",
    "    SELECT\n",
    "        user_name,\n",
    "        user_id,\n",
    "        user_registration\n",
    "    FROM user\n",
    "    WHERE user_name IN {user_names}\n",
    "    \"\"\",\n",
    "    \"metawiki\",\n",
    "    date_col=\"user_registration\"\n",
    ")"
   ]
  },
  {
   "cell_type": "markdown",
   "metadata": {},
   "source": [
    "## Last update"
   ]
  },
  {
   "cell_type": "code",
   "execution_count": 29,
   "metadata": {},
   "outputs": [
    {
     "name": "stdout",
     "output_type": "stream",
     "text": [
      "Notebook last run at 2022-11-22 02:26 using Wmfdata v1.4.0.\n"
     ]
    }
   ],
   "source": [
    "from datetime import datetime\n",
    "\n",
    "now = datetime.now().isoformat(sep=' ', timespec='minutes')\n",
    "\n",
    "version = wmf.metadata.version\n",
    "\n",
    "print(f\"Notebook last run at {now} using Wmfdata v{version}.\")"
   ]
  }
 ],
 "metadata": {
  "kernelspec": {
   "display_name": "Python 3 (ipykernel)",
   "language": "python",
   "name": "python3"
  },
  "language_info": {
   "codemirror_mode": {
    "name": "ipython",
    "version": 3
   },
   "file_extension": ".py",
   "mimetype": "text/x-python",
   "name": "python",
   "nbconvert_exporter": "python",
   "pygments_lexer": "ipython3",
   "version": "3.7.13"
  },
  "toc-autonumbering": false,
  "toc-showcode": false,
  "toc-showmarkdowntxt": false,
  "toc-showtags": false
 },
 "nbformat": 4,
 "nbformat_minor": 4
}
